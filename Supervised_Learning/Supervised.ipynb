{
 "cells": [
  {
   "cell_type": "markdown",
   "id": "d91ebd24",
   "metadata": {},
   "source": [
    "# HW3"
   ]
  },
  {
   "cell_type": "markdown",
   "id": "ce73e952",
   "metadata": {},
   "source": [
    "\n",
    "<b> Gamze Atmaca </b>, <b> Bulut Fıçıcı </b>\n"
   ]
  },
  {
   "cell_type": "markdown",
   "id": "a7856116",
   "metadata": {},
   "source": [
    "Since Random Forest and Gradient Descent rules takes huge space in pdf, provided them in .ipynb file. \n",
    "This pdf has the rules of Decision Tree only."
   ]
  },
  {
   "cell_type": "code",
   "execution_count": 1,
   "id": "3cfd5857",
   "metadata": {},
   "outputs": [],
   "source": [
    "import sys\n",
    "from pyspark import SparkConf, SparkContext, SQLContext\n",
    "import numpy as np\n",
    "import matplotlib.pyplot as plt\n",
    "from sklearn.metrics import confusion_matrix"
   ]
  },
  {
   "cell_type": "code",
   "execution_count": 2,
   "id": "020e4dac",
   "metadata": {},
   "outputs": [],
   "source": [
    "from pyspark.sql.types import StructType,StructField, StringType, IntegerType \n",
    "from pyspark.sql.types import ArrayType, DoubleType, BooleanType\n",
    "from pyspark.sql.functions import corr\n",
    "from pyspark.ml.classification import LogisticRegression\n",
    "from pyspark.ml.regression import LinearRegression\n",
    "from pyspark.ml.linalg import Vector\n",
    "from pyspark.ml.feature import VectorAssembler\n",
    "from pyspark.ml.evaluation import BinaryClassificationEvaluator\n",
    "from pyspark.ml.evaluation import MulticlassClassificationEvaluator\n",
    "from pyspark.ml import Pipeline\n",
    "from pyspark.sql.functions import *"
   ]
  },
  {
   "cell_type": "code",
   "execution_count": 3,
   "id": "656ddd0f",
   "metadata": {},
   "outputs": [],
   "source": [
    "sc = SparkContext.getOrCreate()\n",
    "sqlcont = SQLContext(sc)"
   ]
  },
  {
   "cell_type": "code",
   "execution_count": 4,
   "id": "fe138ec8",
   "metadata": {},
   "outputs": [],
   "source": [
    "# Using schema to create df\n",
    "\n",
    "schema = StructType() \\\n",
    "      .add(\"Open_Time\",DoubleType(),True) \\\n",
    "      .add(\"Open\",DoubleType(),True) \\\n",
    "      .add(\"High\",DoubleType(),True) \\\n",
    "      .add(\"Low\",DoubleType(),True) \\\n",
    "      .add(\"Close_btc\",DoubleType(),True) \\\n",
    "      .add(\"Volume\",DoubleType(),True) \\\n",
    "\n",
    "df_btc = sqlcont.read.format(\"csv\") \\\n",
    "      .option(\"header\", True) \\\n",
    "      .schema(schema) \\\n",
    "      .load('csv/btc_2021_hourly.csv')\n",
    "\n",
    "schema = StructType() \\\n",
    "      .add(\"Open_Time\",DoubleType(),True) \\\n",
    "      .add(\"Open\",DoubleType(),True) \\\n",
    "      .add(\"Low\",DoubleType(),True) \\\n",
    "      .add(\"Close_eth\",DoubleType(),True) \\\n",
    "      .add(\"Volume\",DoubleType(),True) \n",
    "\n",
    "df_eth = sqlcont.read.format(\"csv\") \\\n",
    "      .option(\"header\", True) \\\n",
    "      .schema(schema) \\\n",
    "      .load('csv/eth_2021_hourly.csv')\n",
    "\n",
    "schema = StructType() \\\n",
    "      .add(\"Open_Time\",DoubleType(),True) \\\n",
    "      .add(\"Open\",DoubleType(),True) \\\n",
    "      .add(\"High\",DoubleType(),True) \\\n",
    "      .add(\"Low\",DoubleType(),True) \\\n",
    "      .add(\"Close_xrp\",DoubleType(),True) \\\n",
    "      .add(\"Volume\",DoubleType(),True) \n",
    "\n",
    "df_xrp = sqlcont.read.format(\"csv\") \\\n",
    "      .option(\"header\", True) \\\n",
    "      .schema(schema) \\\n",
    "      .load('csv/xrp_2021_hourly.csv')\n",
    "\n",
    "schema = StructType() \\\n",
    "      .add(\"Open_Time\",DoubleType(),True) \\\n",
    "      .add(\"Open\",DoubleType(),True) \\\n",
    "      .add(\"High\",DoubleType(),True) \\\n",
    "      .add(\"Low\",DoubleType(),True) \\\n",
    "      .add(\"Close_ada\",DoubleType(),True) \\\n",
    "      .add(\"Volume\",DoubleType(),True) \n",
    "\n",
    "df_ada = sqlcont.read.format(\"csv\") \\\n",
    "      .option(\"header\", True) \\\n",
    "      .schema(schema) \\\n",
    "      .load('csv/ada_2021_hourly.csv')\n",
    "\n",
    "schema = StructType() \\\n",
    "      .add(\"Open_Time\",DoubleType(),True) \\\n",
    "      .add(\"Open\",DoubleType(),True) \\\n",
    "      .add(\"High\",DoubleType(),True) \\\n",
    "      .add(\"Low\",DoubleType(),True) \\\n",
    "      .add(\"Close_bnb\",DoubleType(),True) \\\n",
    "      .add(\"Volume\",DoubleType(),True) \n",
    "\n",
    "df_bnb = sqlcont.read.format(\"csv\") \\\n",
    "      .option(\"header\", True) \\\n",
    "      .schema(schema) \\\n",
    "      .load('csv/bnb_2021_hourly.csv')"
   ]
  },
  {
   "cell_type": "code",
   "execution_count": 5,
   "id": "d3ec527b",
   "metadata": {},
   "outputs": [],
   "source": [
    "df_btc=df_btc.drop(\"Open\").drop(\"High\").drop(\"Low\").drop(\"Volume\")\n",
    "df_eth=df_eth.drop(\"Open\").drop(\"High\").drop(\"Low\").drop(\"Volume\")\n",
    "df_xrp=df_xrp.drop(\"Open\").drop(\"High\").drop(\"Low\").drop(\"Volume\")\n",
    "df_ada=df_ada.drop(\"Open\").drop(\"High\").drop(\"Low\").drop(\"Volume\")\n",
    "df_bnb=df_bnb.drop(\"Open\").drop(\"High\").drop(\"Low\").drop(\"Volume\")"
   ]
  },
  {
   "cell_type": "code",
   "execution_count": 6,
   "id": "1ba6de6b",
   "metadata": {},
   "outputs": [],
   "source": [
    "# Joined dataframes with respect to their Open_Time\n",
    "\n",
    "df=df_btc.join(df_bnb,[\"Open_Time\"])\n",
    "df=df.join(df_eth,[\"Open_Time\"])\n",
    "df=df.join(df_ada,[\"Open_Time\"])\n",
    "df=df.join(df_xrp,[\"Open_Time\"])"
   ]
  },
  {
   "cell_type": "code",
   "execution_count": 7,
   "id": "8ac709af",
   "metadata": {},
   "outputs": [],
   "source": [
    "# Timestamp to datetime\n",
    "\n",
    "df=df.withColumn(\"Open_Time\", from_unixtime(col(\"Open_Time\")))"
   ]
  },
  {
   "cell_type": "code",
   "execution_count": 8,
   "id": "bc1743b3",
   "metadata": {},
   "outputs": [
    {
     "name": "stdout",
     "output_type": "stream",
     "text": [
      "-RECORD 0------------------------\n",
      " Open_Time | 2021-01-01 01:00:00 \n",
      " Close_btc | 29409.99            \n",
      " Close_bnb | 37.6134             \n",
      " Close_eth | 733.37              \n",
      " Close_ada | 0.18358             \n",
      " Close_xrp | 0.22382             \n",
      "-RECORD 1------------------------\n",
      " Open_Time | 2021-01-01 02:00:00 \n",
      " Close_btc | 29194.65            \n",
      " Close_bnb | 37.96               \n",
      " Close_eth | 742.27              \n",
      " Close_ada | 0.18368             \n",
      " Close_xrp | 0.22361             \n",
      "-RECORD 2------------------------\n",
      " Open_Time | 2021-01-01 03:00:00 \n",
      " Close_btc | 29278.4             \n",
      " Close_bnb | 37.925              \n",
      " Close_eth | 743.1               \n",
      " Close_ada | 0.18292             \n",
      " Close_xrp | 0.2273              \n",
      "only showing top 3 rows\n",
      "\n"
     ]
    }
   ],
   "source": [
    "df.show(3,vertical=True)"
   ]
  },
  {
   "cell_type": "code",
   "execution_count": 9,
   "id": "0d7ac0be",
   "metadata": {},
   "outputs": [
    {
     "data": {
      "text/plain": [
       "0"
      ]
     },
     "execution_count": 9,
     "metadata": {},
     "output_type": "execute_result"
    }
   ],
   "source": [
    "# There is no NULL value in out dataset.\n",
    "\n",
    "df.filter(df[\"Open_Time\"].isNull()).count()+df.filter(df_btc[\"Close_btc\"].isNull()).count()\\\n",
    "+df.filter(df[\"Close_bnb\"].isNull()).count()+df.filter(df[\"Close_eth\"].isNull()).count()\\\n",
    "+df.filter(df[\"Close_ada\"].isNull()).count()+df.filter(df[\"Close_xrp\"].isNull()).count()"
   ]
  },
  {
   "cell_type": "code",
   "execution_count": 10,
   "id": "73ea7c18",
   "metadata": {},
   "outputs": [
    {
     "data": {
      "text/plain": [
       "(3632, 6)"
      ]
     },
     "execution_count": 10,
     "metadata": {},
     "output_type": "execute_result"
    }
   ],
   "source": [
    "# Shape of our dataset\n",
    "\n",
    "(df.count(),len(df.columns))"
   ]
  },
  {
   "cell_type": "code",
   "execution_count": 11,
   "id": "5fbda16e",
   "metadata": {},
   "outputs": [
    {
     "data": {
      "text/plain": [
       "3632"
      ]
     },
     "execution_count": 11,
     "metadata": {},
     "output_type": "execute_result"
    }
   ],
   "source": [
    "# All values are distinct\n",
    "\n",
    "df.distinct().count()"
   ]
  },
  {
   "cell_type": "code",
   "execution_count": 12,
   "id": "6b03c788",
   "metadata": {},
   "outputs": [
    {
     "name": "stdout",
     "output_type": "stream",
     "text": [
      "+-------+-------------------+-----------------+------------------+------------------+-------------------+-------------------+\n",
      "|summary|          Open_Time|        Close_btc|         Close_bnb|         Close_eth|          Close_ada|          Close_xrp|\n",
      "+-------+-------------------+-----------------+------------------+------------------+-------------------+-------------------+\n",
      "|  count|               3632|             3632|              3632|              3632|               3632|               3632|\n",
      "|   mean|               null|47765.06958700446| 289.3430961178408|1988.5438436123306|  1.052209691629956| 0.7552170870044059|\n",
      "| stddev|               null|9755.696878505894|199.37845900084326| 735.3322081769288|0.48754714146259637|0.46263710089047844|\n",
      "|    min|2021-01-01 01:00:00|         29000.01|           35.8756|            714.29|            0.17064|            0.21743|\n",
      "|    max|2021-06-01 15:00:00|         64577.26|            684.22|           4297.42|             2.4197|            1.93777|\n",
      "+-------+-------------------+-----------------+------------------+------------------+-------------------+-------------------+\n",
      "\n"
     ]
    }
   ],
   "source": [
    "# Description \n",
    "\n",
    "df.describe().show()"
   ]
  },
  {
   "cell_type": "code",
   "execution_count": 13,
   "id": "93680066",
   "metadata": {},
   "outputs": [
    {
     "name": "stdout",
     "output_type": "stream",
     "text": [
      "+-------------------+---------+---------+---------+---------+---------+\n",
      "|          Open_Time|Close_btc|Close_bnb|Close_eth|Close_ada|Close_xrp|\n",
      "+-------------------+---------+---------+---------+---------+---------+\n",
      "|2021-04-14 06:00:00| 64577.26| 583.1688|  2353.56|   1.5195|  1.89768|\n",
      "|2021-04-14 11:00:00| 64511.21| 574.7138|  2357.99|  1.47108|  1.83783|\n",
      "|2021-04-14 07:00:00|  64288.8| 575.7693|  2369.75|  1.50496|  1.90294|\n",
      "|2021-04-14 04:00:00| 64268.97| 574.2624|   2338.0|  1.53841|  1.93777|\n",
      "|2021-04-14 10:00:00| 64099.99| 571.4354|  2332.74|  1.48703|  1.82924|\n",
      "|2021-04-14 05:00:00| 64038.49| 579.6999|   2353.0|  1.50858|  1.89836|\n",
      "|2021-04-14 08:00:00| 63928.57| 580.8758|  2327.75|  1.49377|  1.81327|\n",
      "|2021-04-14 12:00:00| 63871.42| 565.0001|   2350.0|  1.42307|  1.77777|\n",
      "|2021-04-14 13:00:00| 63772.67|  555.727|  2350.32|  1.41792|  1.73382|\n",
      "|2021-04-14 03:00:00| 63749.19| 568.3266|  2290.25|   1.4589|  1.81586|\n",
      "+-------------------+---------+---------+---------+---------+---------+\n",
      "only showing top 10 rows\n",
      "\n"
     ]
    }
   ],
   "source": [
    "# Max values of BTCUSDT\n",
    "\n",
    "df.orderBy(\"Close_btc\",ascending=False).show(10)"
   ]
  },
  {
   "cell_type": "code",
   "execution_count": 14,
   "id": "32659b28",
   "metadata": {},
   "outputs": [
    {
     "name": "stdout",
     "output_type": "stream",
     "text": [
      "+--------------------------+\n",
      "|corr(Close_btc, Close_bnb)|\n",
      "+--------------------------+\n",
      "|        0.6851279938636956|\n",
      "+--------------------------+\n",
      "\n",
      "+--------------------------+\n",
      "|corr(Close_btc, Close_eth)|\n",
      "+--------------------------+\n",
      "|       0.46032378356795545|\n",
      "+--------------------------+\n",
      "\n",
      "+--------------------------+\n",
      "|corr(Close_btc, Close_xrp)|\n",
      "+--------------------------+\n",
      "|         0.516116173912515|\n",
      "+--------------------------+\n",
      "\n",
      "+--------------------------+\n",
      "|corr(Close_btc, Close_ada)|\n",
      "+--------------------------+\n",
      "|        0.5841987920185967|\n",
      "+--------------------------+\n",
      "\n"
     ]
    }
   ],
   "source": [
    "# BNB has the greatest correlation with BTC\n",
    "\n",
    "df.select(corr(\"Close_btc\",\"Close_bnb\")).show()\n",
    "df.select(corr(\"Close_btc\",\"Close_eth\")).show()\n",
    "df.select(corr(\"Close_btc\",\"Close_xrp\")).show()\n",
    "df.select(corr(\"Close_btc\",\"Close_ada\")).show()"
   ]
  },
  {
   "cell_type": "markdown",
   "id": "13d8f841",
   "metadata": {},
   "source": [
    "## Pipeline"
   ]
  },
  {
   "cell_type": "code",
   "execution_count": 15,
   "id": "acd69673",
   "metadata": {},
   "outputs": [],
   "source": [
    "def assemble_vectors(df, features_list, target_variable_name):\n",
    "    \n",
    "    stages=[]\n",
    "    assembler=VectorAssembler(inputCols=features_list, outputCol=\"features\")\n",
    "    stages=[assembler]\n",
    "    selectedCols=[target_variable_name,\"features\"]+features_list\n",
    "    pipeline=Pipeline(stages=stages)\n",
    "    assembleModel=pipeline.fit(df)\n",
    "    df=assembleModel.transform(df).select(selectedCols)\n",
    "    \n",
    "    return(df)"
   ]
  },
  {
   "cell_type": "code",
   "execution_count": 16,
   "id": "7764463f",
   "metadata": {},
   "outputs": [],
   "source": [
    "x=assemble_vectors(df,[\"Close_bnb\",\"Close_eth\",\"Close_xrp\",\"Close_ada\"], \"Close_btc\")"
   ]
  },
  {
   "cell_type": "code",
   "execution_count": 17,
   "id": "c48024f8",
   "metadata": {},
   "outputs": [
    {
     "name": "stdout",
     "output_type": "stream",
     "text": [
      "+---------+--------------------+---------+---------+---------+---------+\n",
      "|Close_btc|            features|Close_bnb|Close_eth|Close_xrp|Close_ada|\n",
      "+---------+--------------------+---------+---------+---------+---------+\n",
      "| 29409.99|[37.6134,733.37,0...|  37.6134|   733.37|  0.22382|  0.18358|\n",
      "| 29194.65|[37.96,742.27,0.2...|    37.96|   742.27|  0.22361|  0.18368|\n",
      "|  29278.4|[37.925,743.1,0.2...|   37.925|    743.1|   0.2273|  0.18292|\n",
      "| 29220.31|[37.8702,739.3,0....|  37.8702|    739.3|  0.23898|   0.1818|\n",
      "| 29187.01|[37.7129,739.5,0....|  37.7129|    739.5|  0.23819|  0.18297|\n",
      "| 29174.35|[37.6463,737.04,0...|  37.6463|   737.04|  0.23428|    0.181|\n",
      "| 29092.83|[37.6812,734.4,0....|  37.6812|    734.4|  0.22976|  0.17955|\n",
      "| 29000.01|[37.4172,725.1,0....|  37.4172|    725.1|  0.22874|  0.17762|\n",
      "| 29202.21|[37.9477,728.77,0...|  37.9477|   728.77|  0.23259|  0.17904|\n",
      "| 29223.82|[38.827,733.27,0....|   38.827|   733.27|  0.23692|  0.18021|\n",
      "| 29313.49|[38.3904,736.11,0...|  38.3904|   736.11|  0.23732|   0.1795|\n",
      "| 29233.49|[38.3142,732.12,0...|  38.3142|   732.12|   0.2332|   0.1801|\n",
      "| 29464.79|[38.3304,733.0,0....|  38.3304|    733.0|  0.23425|   0.1811|\n",
      "| 29327.84|[38.1101,736.46,0...|  38.1101|   736.46|  0.23681|  0.18285|\n",
      "| 29188.67|[38.1318,733.5,0....|  38.1318|    733.5|  0.24282|  0.18055|\n",
      "| 29300.57|[38.1901,733.01,0...|  38.1901|   733.01|  0.24663|  0.18001|\n",
      "| 29079.64|[37.8397,726.57,0...|  37.8397|   726.57|  0.23681|  0.17796|\n",
      "|  29072.7|[37.5989,714.29,0...|  37.5989|   714.29|  0.23471|  0.17465|\n",
      "| 29029.04|[37.4,720.95,0.23...|     37.4|   720.95|  0.23371|  0.17432|\n",
      "| 29200.96|[37.401,722.5,0.2...|   37.401|    722.5|  0.23703|  0.17503|\n",
      "+---------+--------------------+---------+---------+---------+---------+\n",
      "only showing top 20 rows\n",
      "\n"
     ]
    }
   ],
   "source": [
    "x.show()"
   ]
  },
  {
   "cell_type": "markdown",
   "id": "4cc38901",
   "metadata": {},
   "source": [
    "## Linear Regression"
   ]
  },
  {
   "cell_type": "code",
   "execution_count": 18,
   "id": "88b08524",
   "metadata": {},
   "outputs": [],
   "source": [
    "# Linear regression model and fit \n",
    "\n",
    "train_df,test_df=x.randomSplit([0.7,0.3])\n",
    "reg=LinearRegression(featuresCol=\"features\", labelCol=\"Close_btc\")\n",
    "linear=reg.fit(train_df)"
   ]
  },
  {
   "cell_type": "code",
   "execution_count": 19,
   "id": "7da3fcbf",
   "metadata": {},
   "outputs": [
    {
     "name": "stdout",
     "output_type": "stream",
     "text": [
      "Intercept is: 46222.957784438855\n",
      "\n",
      "Coefficients are: [84.24381814584642,-7.398178040990836,-15380.09655605933,3219.4486557043347]\n"
     ]
    }
   ],
   "source": [
    "print(\"Intercept is:\",linear.intercept)\n",
    "print(\"\\nCoefficients are:\", linear.coefficients)"
   ]
  },
  {
   "cell_type": "code",
   "execution_count": 20,
   "id": "97ee0151",
   "metadata": {},
   "outputs": [
    {
     "name": "stdout",
     "output_type": "stream",
     "text": [
      "R-square value: 0.6481004021160544\n"
     ]
    }
   ],
   "source": [
    "test_predictions=linear.evaluate(test_df)\n",
    "print(\"R-square value:\",test_predictions.r2)"
   ]
  },
  {
   "cell_type": "code",
   "execution_count": 21,
   "id": "cbb1d0b3",
   "metadata": {},
   "outputs": [
    {
     "name": "stdout",
     "output_type": "stream",
     "text": [
      "+-------------------+\n",
      "|          residuals|\n",
      "+-------------------+\n",
      "|-12064.491863236359|\n",
      "|-11886.962444948258|\n",
      "|-11781.534865653186|\n",
      "|-11794.032360291549|\n",
      "|-11503.068876876277|\n",
      "+-------------------+\n",
      "only showing top 5 rows\n",
      "\n"
     ]
    }
   ],
   "source": [
    "test_predictions.residuals.show(5)"
   ]
  },
  {
   "cell_type": "markdown",
   "id": "1eaa7347",
   "metadata": {},
   "source": [
    "## Logistic Regression"
   ]
  },
  {
   "cell_type": "code",
   "execution_count": 22,
   "id": "6016398d",
   "metadata": {},
   "outputs": [],
   "source": [
    "# Creating a new dataframe to use logistic regression. \n",
    "\n",
    "schema = StructType() \\\n",
    "      .add(\"Open Time\",DoubleType(),True) \\\n",
    "      .add(\"Open\",DoubleType(),True) \\\n",
    "      .add(\"High\",DoubleType(),True) \\\n",
    "      .add(\"Low\",DoubleType(),True) \\\n",
    "      .add(\"Close\",DoubleType(),True) \\\n",
    "      .add(\"Volume\",DoubleType(),True) \\\n",
    "      .add(\"Close Time\",DoubleType(),True) \\\n",
    "      .add(\"Quote asset volume\",DoubleType(),True) \\\n",
    "      .add(\"Number of trades\",IntegerType(),True) \\\n",
    "      .add(\"Taker buy base asset volume\",DoubleType(),True) \\\n",
    "      .add(\"Taker buy quote asset volume\",DoubleType(),True) \\\n",
    "      .add(\"Ignore\",StringType(),True) \\\n",
    "\n",
    "      \n",
    "btc_df = sqlcont.read.format(\"csv\") \\\n",
    "      .option(\"header\", True) \\\n",
    "      .schema(schema) \\\n",
    "      .load('csv/btc_2021_hourly.csv')"
   ]
  },
  {
   "cell_type": "code",
   "execution_count": 23,
   "id": "e2863c94",
   "metadata": {},
   "outputs": [
    {
     "name": "stdout",
     "output_type": "stream",
     "text": [
      "-RECORD 0-------------------------------------------\n",
      " Open                         | 28995.13            \n",
      " Close                        | 29409.99            \n",
      " Volume                       | 5403.068471         \n",
      " Quote asset volume           | 1.583578168180572E8 \n",
      " Number of trades             | 103896              \n",
      " Taker buy base asset volume  | 3160.041701         \n",
      " Taker buy quote asset volume | 9.261399193555292E7 \n",
      "-RECORD 1-------------------------------------------\n",
      " Open                         | 29410.0             \n",
      " Close                        | 29194.65            \n",
      " Volume                       | 2384.23156          \n",
      " Quote asset volume           | 6.98426536734203E7  \n",
      " Number of trades             | 57646               \n",
      " Taker buy base asset volume  | 1203.433506         \n",
      " Taker buy quote asset volume | 3.525274990832606E7 \n",
      "-RECORD 2-------------------------------------------\n",
      " Open                         | 29195.25            \n",
      " Close                        | 29278.4             \n",
      " Volume                       | 1461.345077         \n",
      " Quote asset volume           | 4.276077672551646E7 \n",
      " Number of trades             | 42510               \n",
      " Taker buy base asset volume  | 775.915666          \n",
      " Taker buy quote asset volume | 2.270554798307977E7 \n",
      "only showing top 3 rows\n",
      "\n"
     ]
    }
   ],
   "source": [
    "# Using different columns for logistic regression.\n",
    "\n",
    "btc_df=btc_df.drop(\"Open Time\").drop(\"High\").drop(\"Low\").drop(\"Close Time\").drop(\"Ignore\")\n",
    "btc_df.show(3, vertical=True)"
   ]
  },
  {
   "cell_type": "code",
   "execution_count": 24,
   "id": "097748dc",
   "metadata": {},
   "outputs": [],
   "source": [
    "# Target variable is Up_Down which takes the value of 1 if BTC rises, 0 if it falls between the opening and closing time.\n",
    "\n",
    "btc_df=btc_df.withColumn(\"Up_Down\", \\\n",
    "   when(((btc_df.Close-btc_df.Open) >= 0), lit(1)) \\\n",
    "     .when(((btc_df.Close-btc_df.Open) < 0), lit(0)) \\\n",
    "  )"
   ]
  },
  {
   "cell_type": "code",
   "execution_count": 25,
   "id": "5a4a2e1d",
   "metadata": {},
   "outputs": [
    {
     "name": "stdout",
     "output_type": "stream",
     "text": [
      "-RECORD 0-------------------------------------------\n",
      " Open                         | 28995.13            \n",
      " Close                        | 29409.99            \n",
      " Volume                       | 5403.068471         \n",
      " Quote asset volume           | 1.583578168180572E8 \n",
      " Number of trades             | 103896              \n",
      " Taker buy base asset volume  | 3160.041701         \n",
      " Taker buy quote asset volume | 9.261399193555292E7 \n",
      " Up_Down                      | 1                   \n",
      "-RECORD 1-------------------------------------------\n",
      " Open                         | 29410.0             \n",
      " Close                        | 29194.65            \n",
      " Volume                       | 2384.23156          \n",
      " Quote asset volume           | 6.98426536734203E7  \n",
      " Number of trades             | 57646               \n",
      " Taker buy base asset volume  | 1203.433506         \n",
      " Taker buy quote asset volume | 3.525274990832606E7 \n",
      " Up_Down                      | 0                   \n",
      "only showing top 2 rows\n",
      "\n"
     ]
    }
   ],
   "source": [
    "btc_df.show(2, vertical=True)"
   ]
  },
  {
   "cell_type": "code",
   "execution_count": 26,
   "id": "38c81aa3",
   "metadata": {},
   "outputs": [
    {
     "name": "stdout",
     "output_type": "stream",
     "text": [
      "-RECORD 0--------------------------------------------\n",
      " Up_Down                      | 1                    \n",
      " features                     | [5403.068471,1.58... \n",
      " Volume                       | 5403.068471          \n",
      " Quote asset volume           | 1.583578168180572E8  \n",
      " Number of trades             | 103896               \n",
      " Taker buy base asset volume  | 3160.041701          \n",
      " Taker buy quote asset volume | 9.261399193555292E7  \n",
      "-RECORD 1--------------------------------------------\n",
      " Up_Down                      | 0                    \n",
      " features                     | [2384.23156,6.984... \n",
      " Volume                       | 2384.23156           \n",
      " Quote asset volume           | 6.98426536734203E7   \n",
      " Number of trades             | 57646                \n",
      " Taker buy base asset volume  | 1203.433506          \n",
      " Taker buy quote asset volume | 3.525274990832606E7  \n",
      "-RECORD 2--------------------------------------------\n",
      " Up_Down                      | 1                    \n",
      " features                     | [1461.345077,4.27... \n",
      " Volume                       | 1461.345077          \n",
      " Quote asset volume           | 4.276077672551646E7  \n",
      " Number of trades             | 42510                \n",
      " Taker buy base asset volume  | 775.915666           \n",
      " Taker buy quote asset volume | 2.270554798307977E7  \n",
      "only showing top 3 rows\n",
      "\n"
     ]
    }
   ],
   "source": [
    "# Using pipeline to get the features vector\n",
    "\n",
    "model_btc=assemble_vectors(btc_df,[\"Volume\",\"Quote asset volume\",\"Number of trades\",\"Taker buy base asset volume\",\"Taker buy quote asset volume\"],\"Up_Down\")\n",
    "model_btc.show(3,vertical=True)"
   ]
  },
  {
   "cell_type": "code",
   "execution_count": 27,
   "id": "7623bda3",
   "metadata": {},
   "outputs": [],
   "source": [
    "trainbtc_df,testbtc_df=model_btc.randomSplit([0.7,0.3])\n",
    "logreg=LogisticRegression(featuresCol=\"features\", labelCol=\"Up_Down\").fit(trainbtc_df)"
   ]
  },
  {
   "cell_type": "code",
   "execution_count": 28,
   "id": "94fbd02e",
   "metadata": {},
   "outputs": [],
   "source": [
    "train_results = logreg.evaluate(trainbtc_df).predictions"
   ]
  },
  {
   "cell_type": "code",
   "execution_count": 29,
   "id": "5883a53f",
   "metadata": {},
   "outputs": [
    {
     "name": "stdout",
     "output_type": "stream",
     "text": [
      "+-------+----------+----------------------------------------+\n",
      "|Up_Down|prediction|probability                             |\n",
      "+-------+----------+----------------------------------------+\n",
      "|1      |1.0       |[0.45978427249452236,0.5402157275054776]|\n",
      "|1      |1.0       |[0.47036194790358293,0.529638052096417] |\n",
      "|1      |1.0       |[0.42105595492829706,0.5789440450717029]|\n",
      "|1      |1.0       |[0.4806316246407572,0.5193683753592429] |\n",
      "|1      |1.0       |[0.40472284820626686,0.5952771517937332]|\n",
      "|1      |1.0       |[0.43235824283374286,0.5676417571662571]|\n",
      "|1      |1.0       |[0.49715641672940925,0.5028435832705908]|\n",
      "|1      |1.0       |[0.49885191785884897,0.501148082141151] |\n",
      "|1      |1.0       |[0.48372801576755137,0.5162719842324486]|\n",
      "|1      |1.0       |[0.4332447251822255,0.5667552748177744] |\n",
      "+-------+----------+----------------------------------------+\n",
      "only showing top 10 rows\n",
      "\n"
     ]
    }
   ],
   "source": [
    "train_results.filter(train_results[\"Up_Down\"]==1).filter(train_results['prediction']==1).select(['Up_Down', 'prediction', 'probability']).show(10, False)"
   ]
  },
  {
   "cell_type": "code",
   "execution_count": 30,
   "id": "1b2df365",
   "metadata": {},
   "outputs": [],
   "source": [
    "correct_preds = train_results.filter(train_results[\"Up_Down\"]==1).filter(train_results['prediction']==1).count()"
   ]
  },
  {
   "cell_type": "code",
   "execution_count": 31,
   "id": "42490af2",
   "metadata": {},
   "outputs": [
    {
     "data": {
      "text/plain": [
       "1281"
      ]
     },
     "execution_count": 31,
     "metadata": {},
     "output_type": "execute_result"
    }
   ],
   "source": [
    "trainbtc_df.filter(trainbtc_df[\"Up_Down\"]==1).count()"
   ]
  },
  {
   "cell_type": "code",
   "execution_count": 32,
   "id": "538ad346",
   "metadata": {},
   "outputs": [
    {
     "data": {
      "text/plain": [
       "0.6518345042935206"
      ]
     },
     "execution_count": 32,
     "metadata": {},
     "output_type": "execute_result"
    }
   ],
   "source": [
    "#true predictions to all Up_Down==1 ratio\n",
    "float(correct_preds)/(trainbtc_df.filter(trainbtc_df[\"Up_Down\"]==1).count())"
   ]
  },
  {
   "cell_type": "code",
   "execution_count": 33,
   "id": "7221246a",
   "metadata": {},
   "outputs": [],
   "source": [
    "#test set results\n",
    "results = logreg.evaluate(testbtc_df).predictions"
   ]
  },
  {
   "cell_type": "code",
   "execution_count": 34,
   "id": "5cd071e2",
   "metadata": {},
   "outputs": [
    {
     "name": "stdout",
     "output_type": "stream",
     "text": [
      "+-------+----------+----------------------------------------+\n",
      "|Up_Down|prediction|probability                             |\n",
      "+-------+----------+----------------------------------------+\n",
      "|1      |1.0       |[0.4582443862158398,0.5417556137841602] |\n",
      "|1      |1.0       |[0.48606880079326237,0.5139311992067377]|\n",
      "|1      |1.0       |[0.47725931494143103,0.522740685058569] |\n",
      "|1      |1.0       |[0.49680945496720785,0.5031905450327921]|\n",
      "|1      |1.0       |[0.46681780147482704,0.533182198525173] |\n",
      "|1      |1.0       |[0.48047445778735753,0.5195255422126425]|\n",
      "|1      |1.0       |[0.48420178152343735,0.5157982184765626]|\n",
      "|1      |1.0       |[0.40131594519073815,0.5986840548092618]|\n",
      "|1      |1.0       |[0.4491083205666799,0.5508916794333201] |\n",
      "|1      |1.0       |[0.4545514991666857,0.5454485008333143] |\n",
      "+-------+----------+----------------------------------------+\n",
      "only showing top 10 rows\n",
      "\n"
     ]
    }
   ],
   "source": [
    "results.filter(results[\"Up_Down\"]==1).filter(results['prediction']==1).select(['Up_Down', 'prediction', 'probability']).show(10, False)"
   ]
  },
  {
   "cell_type": "code",
   "execution_count": 35,
   "id": "7ded0c72",
   "metadata": {},
   "outputs": [
    {
     "data": {
      "text/plain": [
       "0.6363636363636364"
      ]
     },
     "execution_count": 35,
     "metadata": {},
     "output_type": "execute_result"
    }
   ],
   "source": [
    "correct_preds_test = results.filter(results[\"Up_Down\"]==1).filter(results['prediction']==1).count()\n",
    "#true predictions to all Up_Down==1 ratio\n",
    "float(correct_preds_test)/(testbtc_df.filter(testbtc_df[\"Up_Down\"]==1).count())"
   ]
  },
  {
   "cell_type": "code",
   "execution_count": 36,
   "id": "62f05604",
   "metadata": {},
   "outputs": [
    {
     "name": "stdout",
     "output_type": "stream",
     "text": [
      "364\n",
      "360\n",
      "174\n",
      "208\n",
      "1106\n",
      "1106\n"
     ]
    }
   ],
   "source": [
    "#confusion matrix\n",
    "true_positives =results[(results.Up_Down==1)&(results.prediction == 1)].count()\n",
    "true_negatives =results[(results.Up_Down==0)&(results.prediction == 0)].count()\n",
    "false_positives =results[(results.Up_Down==0)&(results.prediction == 1)].count()\n",
    "false_negatives =results[(results.Up_Down==1)&(results.prediction == 0)].count()\n",
    "print(true_positives)\n",
    "print(true_negatives)\n",
    "print(false_positives)\n",
    "print(false_negatives)\n",
    "print(true_positives+true_negatives+false_positives+false_negatives)\n",
    "print(results.count())"
   ]
  },
  {
   "cell_type": "code",
   "execution_count": 37,
   "id": "2eb86663",
   "metadata": {},
   "outputs": [
    {
     "name": "stdout",
     "output_type": "stream",
     "text": [
      "0.6363636363636364\n"
     ]
    }
   ],
   "source": [
    "#recall score\n",
    "recall = float(true_positives)/(true_positives+false_negatives)\n",
    "print(recall)"
   ]
  },
  {
   "cell_type": "code",
   "execution_count": 38,
   "id": "beb583bc",
   "metadata": {},
   "outputs": [
    {
     "name": "stdout",
     "output_type": "stream",
     "text": [
      "0.6765799256505576\n"
     ]
    }
   ],
   "source": [
    "#precision score\n",
    "precision = float(true_positives)/(true_positives+false_positives)\n",
    "print(precision)"
   ]
  },
  {
   "cell_type": "code",
   "execution_count": 39,
   "id": "1d7e3f02",
   "metadata": {},
   "outputs": [
    {
     "name": "stdout",
     "output_type": "stream",
     "text": [
      "0.6546112115732369\n"
     ]
    }
   ],
   "source": [
    "#accuracy\n",
    "accuracy = float((true_positives+true_negatives)/(results.count()))\n",
    "print(accuracy)"
   ]
  },
  {
   "cell_type": "markdown",
   "id": "40f1e211",
   "metadata": {},
   "source": [
    "## Random Forest"
   ]
  },
  {
   "cell_type": "code",
   "execution_count": 40,
   "id": "047c9bab",
   "metadata": {},
   "outputs": [
    {
     "name": "stdout",
     "output_type": "stream",
     "text": [
      "-RECORD 0--------------------------------------------\n",
      " Up_Down                      | 1                    \n",
      " features                     | [5403.068471,1.58... \n",
      " Volume                       | 5403.068471          \n",
      " Quote asset volume           | 1.583578168180572E8  \n",
      " Number of trades             | 103896               \n",
      " Taker buy base asset volume  | 3160.041701          \n",
      " Taker buy quote asset volume | 9.261399193555292E7  \n",
      "-RECORD 1--------------------------------------------\n",
      " Up_Down                      | 0                    \n",
      " features                     | [2384.23156,6.984... \n",
      " Volume                       | 2384.23156           \n",
      " Quote asset volume           | 6.98426536734203E7   \n",
      " Number of trades             | 57646                \n",
      " Taker buy base asset volume  | 1203.433506          \n",
      " Taker buy quote asset volume | 3.525274990832606E7  \n",
      "-RECORD 2--------------------------------------------\n",
      " Up_Down                      | 1                    \n",
      " features                     | [1461.345077,4.27... \n",
      " Volume                       | 1461.345077          \n",
      " Quote asset volume           | 4.276077672551646E7  \n",
      " Number of trades             | 42510                \n",
      " Taker buy base asset volume  | 775.915666           \n",
      " Taker buy quote asset volume | 2.270554798307977E7  \n",
      "only showing top 3 rows\n",
      "\n"
     ]
    }
   ],
   "source": [
    "# Creating new features and model with pipeline to use Random Forest. \n",
    "\n",
    "model_btc=assemble_vectors(btc_df,[\"Volume\",\"Quote asset volume\",\"Number of trades\",\"Taker buy base asset volume\",\"Taker buy quote asset volume\"],\"Up_Down\")\n",
    "model_btc.show(3,vertical=True)"
   ]
  },
  {
   "cell_type": "code",
   "execution_count": 41,
   "id": "74cb3077",
   "metadata": {},
   "outputs": [],
   "source": [
    "#train test split\n",
    "train_rf_df,test_rf_df=model_btc.randomSplit([0.7,0.3])"
   ]
  },
  {
   "cell_type": "code",
   "execution_count": 42,
   "id": "c9dba97a",
   "metadata": {},
   "outputs": [],
   "source": [
    "from pyspark.ml.classification import RandomForestClassifier\n",
    "\n",
    "rf_classifier=RandomForestClassifier(featuresCol=\"features\", labelCol=\"Up_Down\", numTrees=50, impurity=\"gini\").fit(train_rf_df)\n",
    "rf_predictions=rf_classifier.transform(test_rf_df)"
   ]
  },
  {
   "cell_type": "code",
   "execution_count": 43,
   "id": "1d401a0d",
   "metadata": {},
   "outputs": [
    {
     "name": "stdout",
     "output_type": "stream",
     "text": [
      "-RECORD 0--------------------------------------------\n",
      " Up_Down                      | 0                    \n",
      " features                     | [785.471694,4.468... \n",
      " Volume                       | 785.471694           \n",
      " Quote asset volume           | 4.468027642170553E7  \n",
      " Number of trades             | 46683                \n",
      " Taker buy base asset volume  | 394.683785           \n",
      " Taker buy quote asset volume | 2.244908604071377E7  \n",
      " rawPrediction                | [19.1374798593348... \n",
      " probability                  | [0.38274959718669... \n",
      " prediction                   | 1.0                  \n",
      "-RECORD 1--------------------------------------------\n",
      " Up_Down                      | 0                    \n",
      " features                     | [965.546625,5.429... \n",
      " Volume                       | 965.546625           \n",
      " Quote asset volume           | 5.429546277117824E7  \n",
      " Number of trades             | 35334                \n",
      " Taker buy base asset volume  | 475.68744            \n",
      " Taker buy quote asset volume | 2.674862209901928E7  \n",
      " rawPrediction                | [17.4037956702694... \n",
      " probability                  | [0.34807591340538... \n",
      " prediction                   | 1.0                  \n",
      "-RECORD 2--------------------------------------------\n",
      " Up_Down                      | 0                    \n",
      " features                     | [967.262478,5.763... \n",
      " Volume                       | 967.262478           \n",
      " Quote asset volume           | 5.763705740907979E7  \n",
      " Number of trades             | 51851                \n",
      " Taker buy base asset volume  | 510.170023           \n",
      " Taker buy quote asset volume | 3.039957143774259E7  \n",
      " rawPrediction                | [21.3180454475927... \n",
      " probability                  | [0.42636090895185... \n",
      " prediction                   | 1.0                  \n",
      "only showing top 3 rows\n",
      "\n"
     ]
    }
   ],
   "source": [
    "rf_predictions.show(3,vertical=True)"
   ]
  },
  {
   "cell_type": "code",
   "execution_count": 44,
   "id": "6163a475",
   "metadata": {},
   "outputs": [
    {
     "name": "stdout",
     "output_type": "stream",
     "text": [
      "+----------+-----+\n",
      "|prediction|count|\n",
      "+----------+-----+\n",
      "|       0.0|  370|\n",
      "|       1.0|  719|\n",
      "+----------+-----+\n",
      "\n"
     ]
    }
   ],
   "source": [
    "rf_predictions.groupBy(\"prediction\").count().show()"
   ]
  },
  {
   "cell_type": "code",
   "execution_count": 45,
   "id": "03964c4b",
   "metadata": {},
   "outputs": [
    {
     "name": "stdout",
     "output_type": "stream",
     "text": [
      "+----------------------------------------+-------+----------+\n",
      "|probability                             |Up_down|prediction|\n",
      "+----------------------------------------+-------+----------+\n",
      "|[0.38274959718669754,0.6172504028133025]|0      |1.0       |\n",
      "|[0.3480759134053881,0.651924086594612]  |0      |1.0       |\n",
      "|[0.4263609089518555,0.5736390910481445] |0      |1.0       |\n",
      "|[0.3480759134053881,0.651924086594612]  |0      |1.0       |\n",
      "|[0.39077614053582155,0.6092238594641785]|0      |1.0       |\n",
      "|[0.45829096107290934,0.5417090389270905]|0      |1.0       |\n",
      "|[0.3675310281830835,0.6324689718169165] |0      |1.0       |\n",
      "|[0.402204711964393,0.597795288035607]   |0      |1.0       |\n",
      "|[0.35210245675451207,0.647897543245488] |0      |1.0       |\n",
      "|[0.5247436321563085,0.47525636784369146]|0      |0.0       |\n",
      "+----------------------------------------+-------+----------+\n",
      "only showing top 10 rows\n",
      "\n"
     ]
    }
   ],
   "source": [
    "rf_predictions.select(['probability',\"Up_down\",'prediction']).show(10,False)"
   ]
  },
  {
   "cell_type": "markdown",
   "id": "9c9ae53d",
   "metadata": {},
   "source": [
    "#Evaluate the model\n",
    "rf_accuracy = MulticlassClassificationEvaluator(labelCol=\"Up_Down\", metricName=\"accuracy\").evaluate(rf_predictions)\n",
    "print(\"The accuracy of RF on test data is {0: .0%}\".format(rf_accuracy))"
   ]
  },
  {
   "cell_type": "code",
   "execution_count": 46,
   "id": "edfb9429",
   "metadata": {},
   "outputs": [
    {
     "name": "stdout",
     "output_type": "stream",
     "text": [
      "The precision on test data is  60%\n"
     ]
    }
   ],
   "source": [
    "rf_precision = MulticlassClassificationEvaluator(labelCol=\"Up_Down\", metricName=\"weightedPrecision\").evaluate(rf_predictions)\n",
    "print(\"The precision on test data is {0: .0%}\".format(rf_precision))"
   ]
  },
  {
   "cell_type": "code",
   "execution_count": 47,
   "id": "c2310c1c",
   "metadata": {},
   "outputs": [
    {
     "name": "stdout",
     "output_type": "stream",
     "text": [
      "The AUC:  61%\n"
     ]
    }
   ],
   "source": [
    "rf_auc = BinaryClassificationEvaluator(labelCol=\"Up_Down\").evaluate(rf_predictions)\n",
    "print(\"The AUC: {0: .0%}\".format(rf_auc))"
   ]
  },
  {
   "cell_type": "code",
   "execution_count": 48,
   "id": "43e4ffcf",
   "metadata": {},
   "outputs": [
    {
     "data": {
      "text/plain": [
       "SparseVector(5, {0: 0.2119, 1: 0.1901, 2: 0.1758, 3: 0.2119, 4: 0.2102})"
      ]
     },
     "execution_count": 48,
     "metadata": {},
     "output_type": "execute_result"
    }
   ],
   "source": [
    "#feature importance as a Sparse Vector\n",
    "\n",
    "rf_classifier.featureImportances"
   ]
  },
  {
   "cell_type": "markdown",
   "id": "18a72d39",
   "metadata": {},
   "source": [
    "## Decision Trees"
   ]
  },
  {
   "cell_type": "code",
   "execution_count": 49,
   "id": "f0552b12",
   "metadata": {},
   "outputs": [],
   "source": [
    "# Creating two new dataframes (logistic_df and linear_df) to use Decision Tree. \n",
    "\n",
    "schema = StructType() \\\n",
    "      .add(\"Open Time\",DoubleType(),True) \\\n",
    "      .add(\"Open\",DoubleType(),True) \\\n",
    "      .add(\"High\",DoubleType(),True) \\\n",
    "      .add(\"Low\",DoubleType(),True) \\\n",
    "      .add(\"Close\",DoubleType(),True) \\\n",
    "      .add(\"Volume\",DoubleType(),True) \\\n",
    "      .add(\"Close Time\",DoubleType(),True) \\\n",
    "      .add(\"Quote asset volume\",DoubleType(),True) \\\n",
    "      .add(\"Number of trades\",IntegerType(),True) \\\n",
    "      .add(\"Taker buy base asset volume\",DoubleType(),True) \\\n",
    "      .add(\"Taker buy quote asset volume\",DoubleType(),True) \\\n",
    "      .add(\"Ignore\",StringType(),True) \\\n",
    "\n",
    "      \n",
    "logistic_df = sqlcont.read.format(\"csv\") \\\n",
    "      .option(\"header\", True) \\\n",
    "      .schema(schema) \\\n",
    "      .load('csv/btc_2021_hourly.csv')\n",
    "# Using different columns for logistic regression.\n",
    "\n",
    "logistic_df=logistic_df.drop(\"Open Time\").drop(\"High\").drop(\"Low\").drop(\"Close Time\").drop(\"Ignore\")\n",
    "\n",
    "# Target variable is Up_Down which takes the value of 1 if BTC rises, 0 if it falls between the opening and closing time.\n",
    "\n",
    "logistic_df=logistic_df.withColumn(\"Up_Down\", \\\n",
    "   when(((logistic_df.Close-logistic_df.Open) >= 0), lit(1)) \\\n",
    "     .when(((logistic_df.Close-logistic_df.Open) < 0), lit(0)) \\\n",
    "  )\n",
    "\n",
    "schema = StructType() \\\n",
    "      .add(\"Open_Time\",DoubleType(),True) \\\n",
    "      .add(\"Open\",DoubleType(),True) \\\n",
    "      .add(\"High\",DoubleType(),True) \\\n",
    "      .add(\"Low\",DoubleType(),True) \\\n",
    "      .add(\"Close_btc\",DoubleType(),True) \\\n",
    "      .add(\"Volume\",DoubleType(),True) \\\n",
    "\n",
    "df_btc = sqlcont.read.format(\"csv\") \\\n",
    "      .option(\"header\", True) \\\n",
    "      .schema(schema) \\\n",
    "      .load('csv/btc_2021_hourly.csv')\n",
    "\n",
    "schema = StructType() \\\n",
    "      .add(\"Open_Time\",DoubleType(),True) \\\n",
    "      .add(\"Open\",DoubleType(),True) \\\n",
    "      .add(\"Low\",DoubleType(),True) \\\n",
    "      .add(\"Close_eth\",DoubleType(),True) \\\n",
    "      .add(\"Volume\",DoubleType(),True) \n",
    "\n",
    "df_eth = sqlcont.read.format(\"csv\") \\\n",
    "      .option(\"header\", True) \\\n",
    "      .schema(schema) \\\n",
    "      .load('csv/eth_2021_hourly.csv')\n",
    "\n",
    "schema = StructType() \\\n",
    "      .add(\"Open_Time\",DoubleType(),True) \\\n",
    "      .add(\"Open\",DoubleType(),True) \\\n",
    "      .add(\"High\",DoubleType(),True) \\\n",
    "      .add(\"Low\",DoubleType(),True) \\\n",
    "      .add(\"Close_xrp\",DoubleType(),True) \\\n",
    "      .add(\"Volume\",DoubleType(),True) \n",
    "\n",
    "df_xrp = sqlcont.read.format(\"csv\") \\\n",
    "      .option(\"header\", True) \\\n",
    "      .schema(schema) \\\n",
    "      .load('csv/xrp_2021_hourly.csv')\n",
    "\n",
    "schema = StructType() \\\n",
    "      .add(\"Open_Time\",DoubleType(),True) \\\n",
    "      .add(\"Open\",DoubleType(),True) \\\n",
    "      .add(\"High\",DoubleType(),True) \\\n",
    "      .add(\"Low\",DoubleType(),True) \\\n",
    "      .add(\"Close_ada\",DoubleType(),True) \\\n",
    "      .add(\"Volume\",DoubleType(),True) \n",
    "\n",
    "df_ada = sqlcont.read.format(\"csv\") \\\n",
    "      .option(\"header\", True) \\\n",
    "      .schema(schema) \\\n",
    "      .load('csv/ada_2021_hourly.csv')\n",
    "\n",
    "schema = StructType() \\\n",
    "      .add(\"Open_Time\",DoubleType(),True) \\\n",
    "      .add(\"Open\",DoubleType(),True) \\\n",
    "      .add(\"High\",DoubleType(),True) \\\n",
    "      .add(\"Low\",DoubleType(),True) \\\n",
    "      .add(\"Close_bnb\",DoubleType(),True) \\\n",
    "      .add(\"Volume\",DoubleType(),True) \n",
    "\n",
    "df_bnb = sqlcont.read.format(\"csv\") \\\n",
    "      .option(\"header\", True) \\\n",
    "      .schema(schema) \\\n",
    "      .load('csv/bnb_2021_hourly.csv')\n",
    "\n",
    "df_btc=df_btc.drop(\"Open\").drop(\"High\").drop(\"Low\").drop(\"Volume\")\n",
    "df_eth=df_eth.drop(\"Open\").drop(\"High\").drop(\"Low\").drop(\"Volume\")\n",
    "df_xrp=df_xrp.drop(\"Open\").drop(\"High\").drop(\"Low\").drop(\"Volume\")\n",
    "df_ada=df_ada.drop(\"Open\").drop(\"High\").drop(\"Low\").drop(\"Volume\")\n",
    "df_bnb=df_bnb.drop(\"Open\").drop(\"High\").drop(\"Low\").drop(\"Volume\")\n",
    "\n",
    "linear_df=df_btc.join(df_bnb,[\"Open_Time\"])\n",
    "linear_df=linear_df.join(df_eth,[\"Open_Time\"])\n",
    "linear_df=linear_df.join(df_ada,[\"Open_Time\"])\n",
    "linear_df=linear_df.join(df_xrp,[\"Open_Time\"])\n",
    "linear_df=linear_df.withColumn(\"Open_Time\", from_unixtime(col(\"Open_Time\")))"
   ]
  },
  {
   "cell_type": "code",
   "execution_count": 50,
   "id": "5652e11a",
   "metadata": {},
   "outputs": [
    {
     "name": "stdout",
     "output_type": "stream",
     "text": [
      "-RECORD 0-------------------------\n",
      " Close_btc | 29409.99             \n",
      " features  | [37.6134,733.37,0... \n",
      " Close_bnb | 37.6134              \n",
      " Close_eth | 733.37               \n",
      " Close_ada | 0.18358              \n",
      " Close_xrp | 0.22382              \n",
      "-RECORD 1-------------------------\n",
      " Close_btc | 29194.65             \n",
      " features  | [37.96,742.27,0.1... \n",
      " Close_bnb | 37.96                \n",
      " Close_eth | 742.27               \n",
      " Close_ada | 0.18368              \n",
      " Close_xrp | 0.22361              \n",
      "-RECORD 2-------------------------\n",
      " Close_btc | 29278.4              \n",
      " features  | [37.925,743.1,0.1... \n",
      " Close_bnb | 37.925               \n",
      " Close_eth | 743.1                \n",
      " Close_ada | 0.18292              \n",
      " Close_xrp | 0.2273               \n",
      "only showing top 3 rows\n",
      "\n"
     ]
    }
   ],
   "source": [
    "model_linear=assemble_vectors(linear_df,[\"Close_bnb\",\"Close_eth\",\"Close_ada\",\"Close_xrp\"],\"Close_btc\")\n",
    "model_logistic=assemble_vectors(logistic_df,[\"Volume\",\"Quote asset volume\",\"Number of trades\",\"Taker buy base asset volume\",\"Taker buy quote asset volume\"],\"Up_Down\")\n",
    "model_linear.show(3,vertical=True)"
   ]
  },
  {
   "cell_type": "code",
   "execution_count": 51,
   "id": "bbeeb5a4",
   "metadata": {},
   "outputs": [
    {
     "data": {
      "text/plain": [
       "SparseVector(5, {0: 0.3853, 1: 0.1096, 2: 0.0646, 3: 0.3358, 4: 0.1046})"
      ]
     },
     "execution_count": 51,
     "metadata": {},
     "output_type": "execute_result"
    }
   ],
   "source": [
    "from pyspark.ml.classification import DecisionTreeClassifier\n",
    "\n",
    "dtreeclf= DecisionTreeClassifier(featuresCol=\"features\", labelCol=\"Up_Down\", impurity=\"gini\")\n",
    "class_model=dtreeclf.fit(model_logistic)\n",
    "class_model.featureImportances"
   ]
  },
  {
   "cell_type": "code",
   "execution_count": 52,
   "id": "d7bc5475",
   "metadata": {},
   "outputs": [
    {
     "data": {
      "text/plain": [
       "SparseVector(4, {0: 0.8393, 1: 0.0025, 2: 0.1191, 3: 0.039})"
      ]
     },
     "execution_count": 52,
     "metadata": {},
     "output_type": "execute_result"
    }
   ],
   "source": [
    "from pyspark.ml.regression import DecisionTreeRegressor\n",
    "\n",
    "reg_lin=DecisionTreeRegressor(featuresCol=\"features\",labelCol=\"Close_btc\", impurity=\"variance\")\n",
    "reg_model=reg_lin.fit(model_linear)\n",
    "reg_model.featureImportances"
   ]
  },
  {
   "cell_type": "code",
   "execution_count": 53,
   "id": "092f9cef",
   "metadata": {},
   "outputs": [
    {
     "data": {
      "text/plain": [
       "'DecisionTreeClassificationModel: uid=DecisionTreeClassifier_b6445e1181b0, depth=5, numNodes=41, numClasses=2, numFeatures=5\\n  If (feature 1 <= 4.172340693661369E8)\\n   If (feature 3 <= 3241.4672215)\\n    If (feature 0 <= 5953.5265545)\\n     If (feature 3 <= 2464.81589)\\n      If (feature 0 <= 4697.4082005)\\n       Predict: 1.0\\n      Else (feature 0 > 4697.4082005)\\n       Predict: 0.0\\n     Else (feature 3 > 2464.81589)\\n      If (feature 4 <= 8.810432546349761E7)\\n       Predict: 0.0\\n      Else (feature 4 > 8.810432546349761E7)\\n       Predict: 1.0\\n    Else (feature 0 > 5953.5265545)\\n     If (feature 3 <= 2942.236581)\\n      Predict: 0.0\\n     Else (feature 3 > 2942.236581)\\n      If (feature 1 <= 1.9858397984263003E8)\\n       Predict: 1.0\\n      Else (feature 1 > 1.9858397984263003E8)\\n       Predict: 0.0\\n   Else (feature 3 > 3241.4672215)\\n    If (feature 0 <= 6464.53894)\\n     If (feature 2 <= 149621.5)\\n      Predict: 1.0\\n     Else (feature 2 > 149621.5)\\n      If (feature 1 <= 3.391509542671021E8)\\n       Predict: 0.0\\n      Else (feature 1 > 3.391509542671021E8)\\n       Predict: 1.0\\n    Else (feature 0 > 6464.53894)\\n     If (feature 2 <= 128703.0)\\n      If (feature 4 <= 1.0998664344383378E8)\\n       Predict: 0.0\\n      Else (feature 4 > 1.0998664344383378E8)\\n       Predict: 1.0\\n     Else (feature 2 > 128703.0)\\n      If (feature 4 <= 1.180284472040414E8)\\n       Predict: 0.0\\n      Else (feature 4 > 1.180284472040414E8)\\n       Predict: 1.0\\n  Else (feature 1 > 4.172340693661369E8)\\n   If (feature 3 <= 4991.0607660000005)\\n    If (feature 0 <= 7650.986312499999)\\n     If (feature 2 <= 167644.5)\\n      Predict: 0.0\\n     Else (feature 2 > 167644.5)\\n      If (feature 2 <= 202594.0)\\n       Predict: 1.0\\n      Else (feature 2 > 202594.0)\\n       Predict: 0.0\\n    Else (feature 0 > 7650.986312499999)\\n     Predict: 0.0\\n   Else (feature 3 > 4991.0607660000005)\\n    If (feature 0 <= 10152.9783765)\\n     Predict: 1.0\\n    Else (feature 0 > 10152.9783765)\\n     If (feature 2 <= 202594.0)\\n      Predict: 1.0\\n     Else (feature 2 > 202594.0)\\n      Predict: 0.0\\n'"
      ]
     },
     "execution_count": 53,
     "metadata": {},
     "output_type": "execute_result"
    }
   ],
   "source": [
    "#Classifier Model Tree\n",
    "class_model.toDebugString"
   ]
  },
  {
   "cell_type": "markdown",
   "id": "c84da57f",
   "metadata": {},
   "source": [
    "## Gradient Descent"
   ]
  },
  {
   "cell_type": "code",
   "execution_count": 54,
   "id": "55569395",
   "metadata": {},
   "outputs": [
    {
     "name": "stdout",
     "output_type": "stream",
     "text": [
      "\n",
      "\n",
      "Number of trees created: 20\n",
      "\n",
      "\n",
      "(5,[0,1,2,3,4],[0.22800087754539336,0.21214142006581044,0.17190482620185268,0.21999545670412998,0.1679574194828135])\n"
     ]
    }
   ],
   "source": [
    "from pyspark.ml.classification import GBTClassifier\n",
    "\n",
    "gdc=GBTClassifier(featuresCol=\"features\",labelCol=\"Up_Down\")\n",
    "gdmodel=gdc.fit(train_rf_df)\n",
    "\n",
    "print(\"\\n\")\n",
    "print(\"Number of trees created:\",gdmodel.getNumTrees)\n",
    "print(\"\\n\")\n",
    "print(gdmodel.featureImportances)\n"
   ]
  }
 ],
 "metadata": {
  "kernelspec": {
   "display_name": "Python 3",
   "language": "python",
   "name": "python3"
  },
  "language_info": {
   "codemirror_mode": {
    "name": "ipython",
    "version": 3
   },
   "file_extension": ".py",
   "mimetype": "text/x-python",
   "name": "python",
   "nbconvert_exporter": "python",
   "pygments_lexer": "ipython3",
   "version": "3.9.4"
  }
 },
 "nbformat": 4,
 "nbformat_minor": 5
}

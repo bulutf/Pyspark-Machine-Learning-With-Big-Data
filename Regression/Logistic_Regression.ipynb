{
 "cells": [
  {
   "cell_type": "markdown",
   "id": "4d1c71af",
   "metadata": {},
   "source": [
    "# HW4"
   ]
  },
  {
   "cell_type": "markdown",
   "id": "ce73e952",
   "metadata": {},
   "source": [
    "\n",
    "<b> Gamze Atmaca </b>, <b> Bulut Fıçıcı </b>\n"
   ]
  },
  {
   "cell_type": "code",
   "execution_count": 1,
   "id": "3cfd5857",
   "metadata": {},
   "outputs": [],
   "source": [
    "import sys\n",
    "from pyspark import SparkConf, SparkContext, SQLContext\n",
    "import numpy as np\n",
    "import matplotlib.pyplot as plt\n",
    "from sklearn.metrics import confusion_matrix"
   ]
  },
  {
   "cell_type": "code",
   "execution_count": 2,
   "id": "020e4dac",
   "metadata": {},
   "outputs": [],
   "source": [
    "from pyspark.sql.types import StructType,StructField, StringType, IntegerType \n",
    "from pyspark.sql.types import ArrayType, DoubleType, BooleanType\n",
    "from pyspark.sql.functions import corr\n",
    "from pyspark.ml.classification import LogisticRegression\n",
    "from pyspark.ml.regression import LinearRegression\n",
    "from pyspark.ml.linalg import Vector\n",
    "from pyspark.ml.feature import VectorAssembler\n",
    "from pyspark.ml.evaluation import BinaryClassificationEvaluator\n",
    "from pyspark.ml.evaluation import MulticlassClassificationEvaluator\n",
    "from pyspark.ml import Pipeline\n",
    "from pyspark.sql.functions import *"
   ]
  },
  {
   "cell_type": "code",
   "execution_count": 3,
   "id": "8df26b21",
   "metadata": {},
   "outputs": [],
   "source": [
    "from pyspark.sql import SparkSession\n",
    "from pyspark.sql.types import *\n",
    "import pyspark.sql.functions as F\n",
    "from pyspark.sql.functions import col, asc,desc\n",
    "import matplotlib.pyplot as plt\n",
    "import numpy as np\n",
    "import seaborn as sns\n",
    "from pyspark.sql import SQLContext\n",
    "from pyspark.mllib.stat import Statistics\n",
    "import pandas as pd\n",
    "from pyspark.sql.functions import udf\n",
    "from pyspark.ml.feature import OneHotEncoder, StringIndexer, VectorAssembler,StandardScaler\n",
    "from sklearn.metrics import confusion_matrix"
   ]
  },
  {
   "cell_type": "code",
   "execution_count": 4,
   "id": "656ddd0f",
   "metadata": {},
   "outputs": [],
   "source": [
    "sc = SparkContext.getOrCreate()\n",
    "sqlcont = SQLContext(sc)"
   ]
  },
  {
   "cell_type": "markdown",
   "id": "1eaa7347",
   "metadata": {},
   "source": [
    "# Logistic Regression"
   ]
  },
  {
   "cell_type": "code",
   "execution_count": 5,
   "id": "6016398d",
   "metadata": {},
   "outputs": [],
   "source": [
    "# Creating a new dataframe to use logistic regression. \n",
    "\n",
    "schema = StructType() \\\n",
    "      .add(\"Open Time\",DoubleType(),True) \\\n",
    "      .add(\"Open\",DoubleType(),True) \\\n",
    "      .add(\"High\",DoubleType(),True) \\\n",
    "      .add(\"Low\",DoubleType(),True) \\\n",
    "      .add(\"Close\",DoubleType(),True) \\\n",
    "      .add(\"Volume\",DoubleType(),True) \\\n",
    "      .add(\"Close Time\",DoubleType(),True) \\\n",
    "      .add(\"Quote asset volume\",DoubleType(),True) \\\n",
    "      .add(\"Number of trades\",IntegerType(),True) \\\n",
    "      .add(\"Taker buy base asset volume\",DoubleType(),True) \\\n",
    "      .add(\"Taker buy quote asset volume\",DoubleType(),True) \\\n",
    "      .add(\"Ignore\",StringType(),True) \\\n",
    "\n",
    "df = sqlcont.read.format(\"csv\") \\\n",
    "      .option(\"header\", True) \\\n",
    "      .schema(schema) \\\n",
    "      .load('csv/btc_2021_hourly.csv')"
   ]
  },
  {
   "cell_type": "code",
   "execution_count": 6,
   "id": "e2b527a0",
   "metadata": {},
   "outputs": [
    {
     "name": "stdout",
     "output_type": "stream",
     "text": [
      "There are 3632 rows 9 columns in the data.\n"
     ]
    }
   ],
   "source": [
    "df=df.drop(\"Open Time\").drop(\"Close Time\").drop(\"Ignore\")\n",
    "print(\"There are\",df.count(),\"rows\",len(df.columns),\n",
    "      \"columns\" ,\"in the data.\") "
   ]
  },
  {
   "cell_type": "code",
   "execution_count": 7,
   "id": "777b0a2f",
   "metadata": {},
   "outputs": [
    {
     "name": "stdout",
     "output_type": "stream",
     "text": [
      "-RECORD 0-------------------------------------------\n",
      " Open                         | 28995.13            \n",
      " High                         | 29470.0             \n",
      " Low                          | 28960.35            \n",
      " Close                        | 29409.99            \n",
      " Volume                       | 5403.068471         \n",
      " Quote asset volume           | 1.583578168180572E8 \n",
      " Number of trades             | 103896              \n",
      " Taker buy base asset volume  | 3160.041701         \n",
      " Taker buy quote asset volume | 9.261399193555292E7 \n",
      "only showing top 1 row\n",
      "\n"
     ]
    }
   ],
   "source": [
    "df.show(1,vertical=True)"
   ]
  },
  {
   "cell_type": "code",
   "execution_count": 8,
   "id": "046badd8",
   "metadata": {},
   "outputs": [
    {
     "name": "stdout",
     "output_type": "stream",
     "text": [
      "root\n",
      " |-- Open: double (nullable = true)\n",
      " |-- High: double (nullable = true)\n",
      " |-- Low: double (nullable = true)\n",
      " |-- Close: double (nullable = true)\n",
      " |-- Volume: double (nullable = true)\n",
      " |-- Quote asset volume: double (nullable = true)\n",
      " |-- Number of trades: integer (nullable = true)\n",
      " |-- Taker buy base asset volume: double (nullable = true)\n",
      " |-- Taker buy quote asset volume: double (nullable = true)\n",
      "\n"
     ]
    }
   ],
   "source": [
    "df.printSchema()"
   ]
  },
  {
   "cell_type": "code",
   "execution_count": 9,
   "id": "e44d5f7e",
   "metadata": {},
   "outputs": [
    {
     "data": {
      "text/html": [
       "<div>\n",
       "<style scoped>\n",
       "    .dataframe tbody tr th:only-of-type {\n",
       "        vertical-align: middle;\n",
       "    }\n",
       "\n",
       "    .dataframe tbody tr th {\n",
       "        vertical-align: top;\n",
       "    }\n",
       "\n",
       "    .dataframe thead th {\n",
       "        text-align: right;\n",
       "    }\n",
       "</style>\n",
       "<table border=\"1\" class=\"dataframe\">\n",
       "  <thead>\n",
       "    <tr style=\"text-align: right;\">\n",
       "      <th></th>\n",
       "      <th>0</th>\n",
       "      <th>1</th>\n",
       "      <th>2</th>\n",
       "      <th>3</th>\n",
       "      <th>4</th>\n",
       "    </tr>\n",
       "  </thead>\n",
       "  <tbody>\n",
       "    <tr>\n",
       "      <th>summary</th>\n",
       "      <td>count</td>\n",
       "      <td>mean</td>\n",
       "      <td>stddev</td>\n",
       "      <td>min</td>\n",
       "      <td>max</td>\n",
       "    </tr>\n",
       "    <tr>\n",
       "      <th>Open</th>\n",
       "      <td>3632</td>\n",
       "      <td>47763.097794603425</td>\n",
       "      <td>9758.78706201656</td>\n",
       "      <td>28995.13</td>\n",
       "      <td>64577.25</td>\n",
       "    </tr>\n",
       "    <tr>\n",
       "      <th>High</th>\n",
       "      <td>3632</td>\n",
       "      <td>48127.30659691632</td>\n",
       "      <td>9730.966051054123</td>\n",
       "      <td>29125.32</td>\n",
       "      <td>64854.0</td>\n",
       "    </tr>\n",
       "    <tr>\n",
       "      <th>Low</th>\n",
       "      <td>3632</td>\n",
       "      <td>47363.61166024227</td>\n",
       "      <td>9795.233758474216</td>\n",
       "      <td>28130.0</td>\n",
       "      <td>64280.0</td>\n",
       "    </tr>\n",
       "    <tr>\n",
       "      <th>Close</th>\n",
       "      <td>3632</td>\n",
       "      <td>47765.06958700446</td>\n",
       "      <td>9755.696878505894</td>\n",
       "      <td>29000.01</td>\n",
       "      <td>64577.26</td>\n",
       "    </tr>\n",
       "    <tr>\n",
       "      <th>Volume</th>\n",
       "      <td>3632</td>\n",
       "      <td>3756.4256987472536</td>\n",
       "      <td>2804.2740859967826</td>\n",
       "      <td>0.0</td>\n",
       "      <td>44239.811778</td>\n",
       "    </tr>\n",
       "    <tr>\n",
       "      <th>Quote asset volume</th>\n",
       "      <td>3632</td>\n",
       "      <td>1.7048093031037322E8</td>\n",
       "      <td>1.116667597067393E8</td>\n",
       "      <td>0.0</td>\n",
       "      <td>1.5144648252185037E9</td>\n",
       "    </tr>\n",
       "    <tr>\n",
       "      <th>Number of trades</th>\n",
       "      <td>3632</td>\n",
       "      <td>96093.00633259912</td>\n",
       "      <td>49861.75701668211</td>\n",
       "      <td>0</td>\n",
       "      <td>799206</td>\n",
       "    </tr>\n",
       "    <tr>\n",
       "      <th>Taker buy base asset volume</th>\n",
       "      <td>3632</td>\n",
       "      <td>1845.195042224671</td>\n",
       "      <td>1369.1507788728309</td>\n",
       "      <td>0.0</td>\n",
       "      <td>19904.321262</td>\n",
       "    </tr>\n",
       "    <tr>\n",
       "      <th>Taker buy quote asset volume</th>\n",
       "      <td>3632</td>\n",
       "      <td>8.377469610648279E7</td>\n",
       "      <td>5.4824905157718435E7</td>\n",
       "      <td>0.0</td>\n",
       "      <td>6.839264854908676E8</td>\n",
       "    </tr>\n",
       "  </tbody>\n",
       "</table>\n",
       "</div>"
      ],
      "text/plain": [
       "                                  0                     1  \\\n",
       "summary                       count                  mean   \n",
       "Open                           3632    47763.097794603425   \n",
       "High                           3632     48127.30659691632   \n",
       "Low                            3632     47363.61166024227   \n",
       "Close                          3632     47765.06958700446   \n",
       "Volume                         3632    3756.4256987472536   \n",
       "Quote asset volume             3632  1.7048093031037322E8   \n",
       "Number of trades               3632     96093.00633259912   \n",
       "Taker buy base asset volume    3632     1845.195042224671   \n",
       "Taker buy quote asset volume   3632   8.377469610648279E7   \n",
       "\n",
       "                                                 2         3  \\\n",
       "summary                                     stddev       min   \n",
       "Open                              9758.78706201656  28995.13   \n",
       "High                             9730.966051054123  29125.32   \n",
       "Low                              9795.233758474216   28130.0   \n",
       "Close                            9755.696878505894  29000.01   \n",
       "Volume                          2804.2740859967826       0.0   \n",
       "Quote asset volume             1.116667597067393E8       0.0   \n",
       "Number of trades                 49861.75701668211         0   \n",
       "Taker buy base asset volume     1369.1507788728309       0.0   \n",
       "Taker buy quote asset volume  5.4824905157718435E7       0.0   \n",
       "\n",
       "                                                 4  \n",
       "summary                                        max  \n",
       "Open                                      64577.25  \n",
       "High                                       64854.0  \n",
       "Low                                        64280.0  \n",
       "Close                                     64577.26  \n",
       "Volume                                44239.811778  \n",
       "Quote asset volume            1.5144648252185037E9  \n",
       "Number of trades                            799206  \n",
       "Taker buy base asset volume           19904.321262  \n",
       "Taker buy quote asset volume   6.839264854908676E8  "
      ]
     },
     "execution_count": 9,
     "metadata": {},
     "output_type": "execute_result"
    }
   ],
   "source": [
    "#let's see the statistics\n",
    "numeric_features = [t[0] for t in df.dtypes if (t[1] == 'int' or t[1] == 'double')]\n",
    "df.select(numeric_features).describe().toPandas().transpose()"
   ]
  },
  {
   "cell_type": "code",
   "execution_count": 10,
   "id": "355d0637",
   "metadata": {},
   "outputs": [],
   "source": [
    "#adding the target variable\n",
    "# Target variable is Up_Down which takes the value of \"Yes\" if BTC rises, \"No\" if it falls between the opening and closing time.\n",
    "df=df.withColumn(\"Up_Down\", \\\n",
    "   when(((df.Close-df.Open) >= 0), lit('Yes')) \\\n",
    "     .when(((df.Close-df.Open) < 0), lit('No')) \\\n",
    "  )"
   ]
  },
  {
   "cell_type": "code",
   "execution_count": 11,
   "id": "9b6d4600",
   "metadata": {},
   "outputs": [
    {
     "name": "stdout",
     "output_type": "stream",
     "text": [
      "+-------+-----+\n",
      "|Up_Down|count|\n",
      "+-------+-----+\n",
      "|     No| 1779|\n",
      "|    Yes| 1853|\n",
      "+-------+-----+\n",
      "\n"
     ]
    }
   ],
   "source": [
    "df.groupby(\"Up_Down\").count().show()"
   ]
  },
  {
   "cell_type": "code",
   "execution_count": 12,
   "id": "7709ab9f",
   "metadata": {},
   "outputs": [
    {
     "data": {
      "text/html": [
       "<div>\n",
       "<style scoped>\n",
       "    .dataframe tbody tr th:only-of-type {\n",
       "        vertical-align: middle;\n",
       "    }\n",
       "\n",
       "    .dataframe tbody tr th {\n",
       "        vertical-align: top;\n",
       "    }\n",
       "\n",
       "    .dataframe thead th {\n",
       "        text-align: right;\n",
       "    }\n",
       "</style>\n",
       "<table border=\"1\" class=\"dataframe\">\n",
       "  <thead>\n",
       "    <tr style=\"text-align: right;\">\n",
       "      <th></th>\n",
       "      <th>Open</th>\n",
       "      <th>High</th>\n",
       "      <th>Low</th>\n",
       "      <th>Close</th>\n",
       "      <th>Volume</th>\n",
       "      <th>Quote asset volume</th>\n",
       "      <th>Number of trades</th>\n",
       "      <th>Taker buy base asset volume</th>\n",
       "      <th>Taker buy quote asset volume</th>\n",
       "      <th>Up_Down</th>\n",
       "    </tr>\n",
       "  </thead>\n",
       "  <tbody>\n",
       "    <tr>\n",
       "      <th>0</th>\n",
       "      <td>0</td>\n",
       "      <td>0</td>\n",
       "      <td>0</td>\n",
       "      <td>0</td>\n",
       "      <td>0</td>\n",
       "      <td>0</td>\n",
       "      <td>0</td>\n",
       "      <td>0</td>\n",
       "      <td>0</td>\n",
       "      <td>0</td>\n",
       "    </tr>\n",
       "  </tbody>\n",
       "</table>\n",
       "</div>"
      ],
      "text/plain": [
       "   Open  High  Low  Close  Volume  Quote asset volume  Number of trades  \\\n",
       "0     0     0    0      0       0                   0                 0   \n",
       "\n",
       "   Taker buy base asset volume  Taker buy quote asset volume  Up_Down  \n",
       "0                            0                             0        0  "
      ]
     },
     "execution_count": 12,
     "metadata": {},
     "output_type": "execute_result"
    }
   ],
   "source": [
    "#null check\n",
    "from pyspark.sql.functions import isnan, when, count, col\n",
    "df.select([count(when(isnan(c), c)).alias(c) for c in df.columns]).toPandas().head()"
   ]
  },
  {
   "cell_type": "markdown",
   "id": "f64428cf",
   "metadata": {},
   "source": [
    "Our dataset does not contain any categorical data except the target. So there is no need to encode"
   ]
  },
  {
   "cell_type": "code",
   "execution_count": 13,
   "id": "b4e214da",
   "metadata": {},
   "outputs": [
    {
     "name": "stdout",
     "output_type": "stream",
     "text": [
      "+-------+---------+-----------------+-----+-------+------------------+\n",
      "|Up_Down|UserCount|          NoT_AVG|  NoT|NoT_MAX|           Percent|\n",
      "+-------+---------+-----------------+-----+-------+------------------+\n",
      "|    Yes|     1853|94364.88127361036|    0| 799206|51.018722466960355|\n",
      "|     No|     1779|97893.01517706577|32918| 571162|48.981277533039645|\n",
      "+-------+---------+-----------------+-----+-------+------------------+\n",
      "\n"
     ]
    }
   ],
   "source": [
    "#grouping our target variable with the column 'Number of trades'\n",
    "from pyspark.sql import functions as F\n",
    "from pyspark.sql.functions import rank,sum,col\n",
    "from pyspark.sql import Window\n",
    "\n",
    "window = Window.rowsBetween(Window.unboundedPreceding,Window.unboundedFollowing)\n",
    "tab = df.select(['Up_Down','Number of trades']).\\\n",
    "   groupBy('Up_Down').\\\n",
    "       agg(F.count('Number of trades').alias('UserCount'),\n",
    "           F.mean('Number of trades').alias('NoT_AVG'),\n",
    "           F.min('Number of trades').alias('NoT'),\n",
    "           F.max('Number of trades').alias('NoT_MAX')).\\\n",
    "       withColumn('total',sum(col('UserCount')).over(window)).\\\n",
    "       withColumn('Percent',col('UserCount')*100/col('total')).\\\n",
    "       drop(col('total')).sort(desc(\"Percent\"))\n",
    "tab.show()"
   ]
  },
  {
   "cell_type": "code",
   "execution_count": 14,
   "id": "15d1685c",
   "metadata": {},
   "outputs": [
    {
     "data": {
      "image/png": "[encoded data removed]",
      "text/plain": [
       "<Figure size 720x576 with 1 Axes>"
      ]
     },
     "metadata": {},
     "output_type": "display_data"
    }
   ],
   "source": [
    "# Data to plot\n",
    "labels = list(tab.select('Up_Down').distinct().toPandas()['Up_Down'])\n",
    "sizes =  list(tab.select('Percent').distinct().toPandas()['Percent'])\n",
    "colors = ['yellowgreen', 'lightcoral']\n",
    "explode = (0.1, 0.0)  # explode 1st slice\n",
    "\n",
    "# Plot\n",
    "plt.figure(figsize=(10,8))\n",
    "plt.pie(sizes, explode=explode, labels=labels, colors=colors,\n",
    "        autopct='%1.1f%%', shadow=True, startangle=140)\n",
    "\n",
    "plt.axis('equal')\n",
    "plt.show()"
   ]
  },
  {
   "cell_type": "code",
   "execution_count": 15,
   "id": "be9d28ff",
   "metadata": {},
   "outputs": [],
   "source": [
    "#Correlation Matrix"
   ]
  },
  {
   "cell_type": "code",
   "execution_count": 16,
   "id": "c4b7aac7",
   "metadata": {},
   "outputs": [
    {
     "data": {
      "text/html": [
       "<div>\n",
       "<style scoped>\n",
       "    .dataframe tbody tr th:only-of-type {\n",
       "        vertical-align: middle;\n",
       "    }\n",
       "\n",
       "    .dataframe tbody tr th {\n",
       "        vertical-align: top;\n",
       "    }\n",
       "\n",
       "    .dataframe thead th {\n",
       "        text-align: right;\n",
       "    }\n",
       "</style>\n",
       "<table border=\"1\" class=\"dataframe\">\n",
       "  <thead>\n",
       "    <tr style=\"text-align: right;\">\n",
       "      <th></th>\n",
       "      <th>Open</th>\n",
       "      <th>High</th>\n",
       "      <th>Low</th>\n",
       "      <th>Close</th>\n",
       "      <th>Volume</th>\n",
       "      <th>Quote asset volume</th>\n",
       "      <th>Number of trades</th>\n",
       "      <th>Taker buy base asset volume</th>\n",
       "      <th>Taker buy quote asset volume</th>\n",
       "    </tr>\n",
       "  </thead>\n",
       "  <tbody>\n",
       "    <tr>\n",
       "      <th>0</th>\n",
       "      <td>28995.13</td>\n",
       "      <td>29470.00</td>\n",
       "      <td>28960.35</td>\n",
       "      <td>29409.99</td>\n",
       "      <td>5403.068471</td>\n",
       "      <td>1.583578e+08</td>\n",
       "      <td>103896</td>\n",
       "      <td>3160.041701</td>\n",
       "      <td>9.261399e+07</td>\n",
       "    </tr>\n",
       "    <tr>\n",
       "      <th>1</th>\n",
       "      <td>29410.00</td>\n",
       "      <td>29465.26</td>\n",
       "      <td>29120.03</td>\n",
       "      <td>29194.65</td>\n",
       "      <td>2384.231560</td>\n",
       "      <td>6.984265e+07</td>\n",
       "      <td>57646</td>\n",
       "      <td>1203.433506</td>\n",
       "      <td>3.525275e+07</td>\n",
       "    </tr>\n",
       "    <tr>\n",
       "      <th>2</th>\n",
       "      <td>29195.25</td>\n",
       "      <td>29367.00</td>\n",
       "      <td>29150.02</td>\n",
       "      <td>29278.40</td>\n",
       "      <td>1461.345077</td>\n",
       "      <td>4.276078e+07</td>\n",
       "      <td>42510</td>\n",
       "      <td>775.915666</td>\n",
       "      <td>2.270555e+07</td>\n",
       "    </tr>\n",
       "    <tr>\n",
       "      <th>3</th>\n",
       "      <td>29278.41</td>\n",
       "      <td>29395.00</td>\n",
       "      <td>29029.40</td>\n",
       "      <td>29220.31</td>\n",
       "      <td>2038.046803</td>\n",
       "      <td>5.961464e+07</td>\n",
       "      <td>55414</td>\n",
       "      <td>1003.342834</td>\n",
       "      <td>2.934638e+07</td>\n",
       "    </tr>\n",
       "    <tr>\n",
       "      <th>4</th>\n",
       "      <td>29220.31</td>\n",
       "      <td>29235.28</td>\n",
       "      <td>29084.11</td>\n",
       "      <td>29187.01</td>\n",
       "      <td>1469.956262</td>\n",
       "      <td>4.286454e+07</td>\n",
       "      <td>41800</td>\n",
       "      <td>679.846742</td>\n",
       "      <td>1.982719e+07</td>\n",
       "    </tr>\n",
       "  </tbody>\n",
       "</table>\n",
       "</div>"
      ],
      "text/plain": [
       "       Open      High       Low     Close       Volume  Quote asset volume  \\\n",
       "0  28995.13  29470.00  28960.35  29409.99  5403.068471        1.583578e+08   \n",
       "1  29410.00  29465.26  29120.03  29194.65  2384.231560        6.984265e+07   \n",
       "2  29195.25  29367.00  29150.02  29278.40  1461.345077        4.276078e+07   \n",
       "3  29278.41  29395.00  29029.40  29220.31  2038.046803        5.961464e+07   \n",
       "4  29220.31  29235.28  29084.11  29187.01  1469.956262        4.286454e+07   \n",
       "\n",
       "   Number of trades  Taker buy base asset volume  Taker buy quote asset volume  \n",
       "0            103896                  3160.041701                  9.261399e+07  \n",
       "1             57646                  1203.433506                  3.525275e+07  \n",
       "2             42510                   775.915666                  2.270555e+07  \n",
       "3             55414                  1003.342834                  2.934638e+07  \n",
       "4             41800                   679.846742                  1.982719e+07  "
      ]
     },
     "execution_count": 16,
     "metadata": {},
     "output_type": "execute_result"
    }
   ],
   "source": [
    "numeric_features = [t[0] for t in df.dtypes if t[1] != 'string']\n",
    "numeric_features_df=df.select(numeric_features)\n",
    "numeric_features_df.toPandas().head()"
   ]
  },
  {
   "cell_type": "code",
   "execution_count": 17,
   "id": "d4713ad9",
   "metadata": {},
   "outputs": [
    {
     "data": {
      "text/html": [
       "<div>\n",
       "<style scoped>\n",
       "    .dataframe tbody tr th:only-of-type {\n",
       "        vertical-align: middle;\n",
       "    }\n",
       "\n",
       "    .dataframe tbody tr th {\n",
       "        vertical-align: top;\n",
       "    }\n",
       "\n",
       "    .dataframe thead th {\n",
       "        text-align: right;\n",
       "    }\n",
       "</style>\n",
       "<table border=\"1\" class=\"dataframe\">\n",
       "  <thead>\n",
       "    <tr style=\"text-align: right;\">\n",
       "      <th></th>\n",
       "      <th>Open</th>\n",
       "      <th>High</th>\n",
       "      <th>Low</th>\n",
       "      <th>Close</th>\n",
       "      <th>Volume</th>\n",
       "      <th>Quote asset volume</th>\n",
       "      <th>Number of trades</th>\n",
       "      <th>Taker buy base asset volume</th>\n",
       "      <th>Taker buy quote asset volume</th>\n",
       "    </tr>\n",
       "  </thead>\n",
       "  <tbody>\n",
       "    <tr>\n",
       "      <th>Open</th>\n",
       "      <td>1.000000</td>\n",
       "      <td>0.999428</td>\n",
       "      <td>0.998985</td>\n",
       "      <td>0.998744</td>\n",
       "      <td>-0.319449</td>\n",
       "      <td>-0.042727</td>\n",
       "      <td>-0.121478</td>\n",
       "      <td>-0.322548</td>\n",
       "      <td>-0.043383</td>\n",
       "    </tr>\n",
       "    <tr>\n",
       "      <th>High</th>\n",
       "      <td>0.999428</td>\n",
       "      <td>1.000000</td>\n",
       "      <td>0.998687</td>\n",
       "      <td>0.999359</td>\n",
       "      <td>-0.305863</td>\n",
       "      <td>-0.027954</td>\n",
       "      <td>-0.107775</td>\n",
       "      <td>-0.307128</td>\n",
       "      <td>-0.026637</td>\n",
       "    </tr>\n",
       "    <tr>\n",
       "      <th>Low</th>\n",
       "      <td>0.998985</td>\n",
       "      <td>0.998687</td>\n",
       "      <td>1.000000</td>\n",
       "      <td>0.999225</td>\n",
       "      <td>-0.346126</td>\n",
       "      <td>-0.071284</td>\n",
       "      <td>-0.149084</td>\n",
       "      <td>-0.346527</td>\n",
       "      <td>-0.068885</td>\n",
       "    </tr>\n",
       "    <tr>\n",
       "      <th>Close</th>\n",
       "      <td>0.998744</td>\n",
       "      <td>0.999359</td>\n",
       "      <td>0.999225</td>\n",
       "      <td>1.000000</td>\n",
       "      <td>-0.323427</td>\n",
       "      <td>-0.047111</td>\n",
       "      <td>-0.125812</td>\n",
       "      <td>-0.323105</td>\n",
       "      <td>-0.043981</td>\n",
       "    </tr>\n",
       "    <tr>\n",
       "      <th>Volume</th>\n",
       "      <td>-0.319449</td>\n",
       "      <td>-0.305863</td>\n",
       "      <td>-0.346126</td>\n",
       "      <td>-0.323427</td>\n",
       "      <td>1.000000</td>\n",
       "      <td>0.939635</td>\n",
       "      <td>0.925198</td>\n",
       "      <td>0.990117</td>\n",
       "      <td>0.926133</td>\n",
       "    </tr>\n",
       "    <tr>\n",
       "      <th>Quote asset volume</th>\n",
       "      <td>-0.042727</td>\n",
       "      <td>-0.027954</td>\n",
       "      <td>-0.071284</td>\n",
       "      <td>-0.047111</td>\n",
       "      <td>0.939635</td>\n",
       "      <td>1.000000</td>\n",
       "      <td>0.946821</td>\n",
       "      <td>0.931000</td>\n",
       "      <td>0.988221</td>\n",
       "    </tr>\n",
       "    <tr>\n",
       "      <th>Number of trades</th>\n",
       "      <td>-0.121478</td>\n",
       "      <td>-0.107775</td>\n",
       "      <td>-0.149084</td>\n",
       "      <td>-0.125812</td>\n",
       "      <td>0.925198</td>\n",
       "      <td>0.946821</td>\n",
       "      <td>1.000000</td>\n",
       "      <td>0.916904</td>\n",
       "      <td>0.935690</td>\n",
       "    </tr>\n",
       "    <tr>\n",
       "      <th>Taker buy base asset volume</th>\n",
       "      <td>-0.322548</td>\n",
       "      <td>-0.307128</td>\n",
       "      <td>-0.346527</td>\n",
       "      <td>-0.323105</td>\n",
       "      <td>0.990117</td>\n",
       "      <td>0.931000</td>\n",
       "      <td>0.916904</td>\n",
       "      <td>1.000000</td>\n",
       "      <td>0.938579</td>\n",
       "    </tr>\n",
       "    <tr>\n",
       "      <th>Taker buy quote asset volume</th>\n",
       "      <td>-0.043383</td>\n",
       "      <td>-0.026637</td>\n",
       "      <td>-0.068885</td>\n",
       "      <td>-0.043981</td>\n",
       "      <td>0.926133</td>\n",
       "      <td>0.988221</td>\n",
       "      <td>0.935690</td>\n",
       "      <td>0.938579</td>\n",
       "      <td>1.000000</td>\n",
       "    </tr>\n",
       "  </tbody>\n",
       "</table>\n",
       "</div>"
      ],
      "text/plain": [
       "                                  Open      High       Low     Close  \\\n",
       "Open                          1.000000  0.999428  0.998985  0.998744   \n",
       "High                          0.999428  1.000000  0.998687  0.999359   \n",
       "Low                           0.998985  0.998687  1.000000  0.999225   \n",
       "Close                         0.998744  0.999359  0.999225  1.000000   \n",
       "Volume                       -0.319449 -0.305863 -0.346126 -0.323427   \n",
       "Quote asset volume           -0.042727 -0.027954 -0.071284 -0.047111   \n",
       "Number of trades             -0.121478 -0.107775 -0.149084 -0.125812   \n",
       "Taker buy base asset volume  -0.322548 -0.307128 -0.346527 -0.323105   \n",
       "Taker buy quote asset volume -0.043383 -0.026637 -0.068885 -0.043981   \n",
       "\n",
       "                                Volume  Quote asset volume  Number of trades  \\\n",
       "Open                         -0.319449           -0.042727         -0.121478   \n",
       "High                         -0.305863           -0.027954         -0.107775   \n",
       "Low                          -0.346126           -0.071284         -0.149084   \n",
       "Close                        -0.323427           -0.047111         -0.125812   \n",
       "Volume                        1.000000            0.939635          0.925198   \n",
       "Quote asset volume            0.939635            1.000000          0.946821   \n",
       "Number of trades              0.925198            0.946821          1.000000   \n",
       "Taker buy base asset volume   0.990117            0.931000          0.916904   \n",
       "Taker buy quote asset volume  0.926133            0.988221          0.935690   \n",
       "\n",
       "                              Taker buy base asset volume  \\\n",
       "Open                                            -0.322548   \n",
       "High                                            -0.307128   \n",
       "Low                                             -0.346527   \n",
       "Close                                           -0.323105   \n",
       "Volume                                           0.990117   \n",
       "Quote asset volume                               0.931000   \n",
       "Number of trades                                 0.916904   \n",
       "Taker buy base asset volume                      1.000000   \n",
       "Taker buy quote asset volume                     0.938579   \n",
       "\n",
       "                              Taker buy quote asset volume  \n",
       "Open                                             -0.043383  \n",
       "High                                             -0.026637  \n",
       "Low                                              -0.068885  \n",
       "Close                                            -0.043981  \n",
       "Volume                                            0.926133  \n",
       "Quote asset volume                                0.988221  \n",
       "Number of trades                                  0.935690  \n",
       "Taker buy base asset volume                       0.938579  \n",
       "Taker buy quote asset volume                      1.000000  "
      ]
     },
     "execution_count": 17,
     "metadata": {},
     "output_type": "execute_result"
    }
   ],
   "source": [
    "col_names = numeric_features_df.columns\n",
    "features= numeric_features_df.rdd.map(lambda row: row[0:])\n",
    "corr_mat=Statistics.corr(features, method=\"pearson\")\n",
    "corr_df= pd.DataFrame(corr_mat)\n",
    "corr_df.index, corr_df.columns = col_names, col_names\n",
    "corr_df"
   ]
  },
  {
   "cell_type": "code",
   "execution_count": 18,
   "id": "57006221",
   "metadata": {},
   "outputs": [],
   "source": [
    "#Dropping the highly correlated features\n",
    "df=df.drop(\"High\").drop(\"Low\")"
   ]
  },
  {
   "cell_type": "code",
   "execution_count": 19,
   "id": "ff0d63b4",
   "metadata": {},
   "outputs": [],
   "source": [
    "df2=df\n",
    "df3=df"
   ]
  },
  {
   "cell_type": "code",
   "execution_count": 20,
   "id": "49c80187",
   "metadata": {},
   "outputs": [
    {
     "data": {
      "text/plain": [
       "['Open',\n",
       " 'Close',\n",
       " 'Volume',\n",
       " 'Quote asset volume',\n",
       " 'Number of trades',\n",
       " 'Taker buy base asset volume',\n",
       " 'Taker buy quote asset volume',\n",
       " 'Up_Down']"
      ]
     },
     "execution_count": 20,
     "metadata": {},
     "output_type": "execute_result"
    }
   ],
   "source": [
    "df.columns"
   ]
  },
  {
   "cell_type": "code",
   "execution_count": 21,
   "id": "14965b6d",
   "metadata": {},
   "outputs": [
    {
     "data": {
      "text/html": [
       "<div>\n",
       "<style scoped>\n",
       "    .dataframe tbody tr th:only-of-type {\n",
       "        vertical-align: middle;\n",
       "    }\n",
       "\n",
       "    .dataframe tbody tr th {\n",
       "        vertical-align: top;\n",
       "    }\n",
       "\n",
       "    .dataframe thead th {\n",
       "        text-align: right;\n",
       "    }\n",
       "</style>\n",
       "<table border=\"1\" class=\"dataframe\">\n",
       "  <thead>\n",
       "    <tr style=\"text-align: right;\">\n",
       "      <th></th>\n",
       "      <th>Open</th>\n",
       "      <th>Close</th>\n",
       "      <th>Volume</th>\n",
       "      <th>Quote asset volume</th>\n",
       "      <th>Number of trades</th>\n",
       "      <th>Taker buy base asset volume</th>\n",
       "      <th>Taker buy quote asset volume</th>\n",
       "      <th>Up_Down</th>\n",
       "      <th>vectorized_features</th>\n",
       "    </tr>\n",
       "  </thead>\n",
       "  <tbody>\n",
       "    <tr>\n",
       "      <th>0</th>\n",
       "      <td>28995.13</td>\n",
       "      <td>29409.99</td>\n",
       "      <td>5403.068471</td>\n",
       "      <td>1.583578e+08</td>\n",
       "      <td>103896</td>\n",
       "      <td>3160.041701</td>\n",
       "      <td>9.261399e+07</td>\n",
       "      <td>Yes</td>\n",
       "      <td>[28995.13, 29409.99, 5403.068471, 158357816.81...</td>\n",
       "    </tr>\n",
       "    <tr>\n",
       "      <th>1</th>\n",
       "      <td>29410.00</td>\n",
       "      <td>29194.65</td>\n",
       "      <td>2384.231560</td>\n",
       "      <td>6.984265e+07</td>\n",
       "      <td>57646</td>\n",
       "      <td>1203.433506</td>\n",
       "      <td>3.525275e+07</td>\n",
       "      <td>No</td>\n",
       "      <td>[29410.0, 29194.65, 2384.23156, 69842653.67342...</td>\n",
       "    </tr>\n",
       "    <tr>\n",
       "      <th>2</th>\n",
       "      <td>29195.25</td>\n",
       "      <td>29278.40</td>\n",
       "      <td>1461.345077</td>\n",
       "      <td>4.276078e+07</td>\n",
       "      <td>42510</td>\n",
       "      <td>775.915666</td>\n",
       "      <td>2.270555e+07</td>\n",
       "      <td>Yes</td>\n",
       "      <td>[29195.25, 29278.4, 1461.345077, 42760776.7255...</td>\n",
       "    </tr>\n",
       "    <tr>\n",
       "      <th>3</th>\n",
       "      <td>29278.41</td>\n",
       "      <td>29220.31</td>\n",
       "      <td>2038.046803</td>\n",
       "      <td>5.961464e+07</td>\n",
       "      <td>55414</td>\n",
       "      <td>1003.342834</td>\n",
       "      <td>2.934638e+07</td>\n",
       "      <td>No</td>\n",
       "      <td>[29278.41, 29220.31, 2038.046803, 59614637.303...</td>\n",
       "    </tr>\n",
       "    <tr>\n",
       "      <th>4</th>\n",
       "      <td>29220.31</td>\n",
       "      <td>29187.01</td>\n",
       "      <td>1469.956262</td>\n",
       "      <td>4.286454e+07</td>\n",
       "      <td>41800</td>\n",
       "      <td>679.846742</td>\n",
       "      <td>1.982719e+07</td>\n",
       "      <td>No</td>\n",
       "      <td>[29220.31, 29187.01, 1469.956262, 42864538.704...</td>\n",
       "    </tr>\n",
       "  </tbody>\n",
       "</table>\n",
       "</div>"
      ],
      "text/plain": [
       "       Open     Close       Volume  Quote asset volume  Number of trades  \\\n",
       "0  28995.13  29409.99  5403.068471        1.583578e+08            103896   \n",
       "1  29410.00  29194.65  2384.231560        6.984265e+07             57646   \n",
       "2  29195.25  29278.40  1461.345077        4.276078e+07             42510   \n",
       "3  29278.41  29220.31  2038.046803        5.961464e+07             55414   \n",
       "4  29220.31  29187.01  1469.956262        4.286454e+07             41800   \n",
       "\n",
       "   Taker buy base asset volume  Taker buy quote asset volume Up_Down  \\\n",
       "0                  3160.041701                  9.261399e+07     Yes   \n",
       "1                  1203.433506                  3.525275e+07      No   \n",
       "2                   775.915666                  2.270555e+07     Yes   \n",
       "3                  1003.342834                  2.934638e+07      No   \n",
       "4                   679.846742                  1.982719e+07      No   \n",
       "\n",
       "                                 vectorized_features  \n",
       "0  [28995.13, 29409.99, 5403.068471, 158357816.81...  \n",
       "1  [29410.0, 29194.65, 2384.23156, 69842653.67342...  \n",
       "2  [29195.25, 29278.4, 1461.345077, 42760776.7255...  \n",
       "3  [29278.41, 29220.31, 2038.046803, 59614637.303...  \n",
       "4  [29220.31, 29187.01, 1469.956262, 42864538.704...  "
      ]
     },
     "execution_count": 21,
     "metadata": {},
     "output_type": "execute_result"
    }
   ],
   "source": [
    "# Vectorize\n",
    "assembler = VectorAssembler()\\\n",
    "         .setInputCols (['Open','Close',\"Volume\",\"Quote asset volume\",\"Number of trades\",\"Taker buy base asset volume\",\"Taker buy quote asset volume\"])\\\n",
    "         .setOutputCol (\"vectorized_features\")\n",
    "\n",
    "assembler_df=assembler.transform(df)\n",
    "assembler_df.toPandas().head()"
   ]
  },
  {
   "cell_type": "code",
   "execution_count": 22,
   "id": "77132424",
   "metadata": {},
   "outputs": [
    {
     "data": {
      "text/html": [
       "<div>\n",
       "<style scoped>\n",
       "    .dataframe tbody tr th:only-of-type {\n",
       "        vertical-align: middle;\n",
       "    }\n",
       "\n",
       "    .dataframe tbody tr th {\n",
       "        vertical-align: top;\n",
       "    }\n",
       "\n",
       "    .dataframe thead th {\n",
       "        text-align: right;\n",
       "    }\n",
       "</style>\n",
       "<table border=\"1\" class=\"dataframe\">\n",
       "  <thead>\n",
       "    <tr style=\"text-align: right;\">\n",
       "      <th></th>\n",
       "      <th>Up_Down</th>\n",
       "      <th>label</th>\n",
       "    </tr>\n",
       "  </thead>\n",
       "  <tbody>\n",
       "    <tr>\n",
       "      <th>0</th>\n",
       "      <td>Yes</td>\n",
       "      <td>0.0</td>\n",
       "    </tr>\n",
       "    <tr>\n",
       "      <th>1</th>\n",
       "      <td>No</td>\n",
       "      <td>1.0</td>\n",
       "    </tr>\n",
       "    <tr>\n",
       "      <th>2</th>\n",
       "      <td>Yes</td>\n",
       "      <td>0.0</td>\n",
       "    </tr>\n",
       "    <tr>\n",
       "      <th>3</th>\n",
       "      <td>No</td>\n",
       "      <td>1.0</td>\n",
       "    </tr>\n",
       "    <tr>\n",
       "      <th>4</th>\n",
       "      <td>No</td>\n",
       "      <td>1.0</td>\n",
       "    </tr>\n",
       "  </tbody>\n",
       "</table>\n",
       "</div>"
      ],
      "text/plain": [
       "  Up_Down  label\n",
       "0     Yes    0.0\n",
       "1      No    1.0\n",
       "2     Yes    0.0\n",
       "3      No    1.0\n",
       "4      No    1.0"
      ]
     },
     "execution_count": 22,
     "metadata": {},
     "output_type": "execute_result"
    }
   ],
   "source": [
    "label_indexer = StringIndexer()\\\n",
    "                 .setInputCol (\"Up_Down\")\\\n",
    "                 .setOutputCol (\"label\")\n",
    "\n",
    "label_indexer_model=label_indexer.fit(assembler_df)\n",
    "label_indexer_df=label_indexer_model.transform(assembler_df)\n",
    "label_indexer_df.select(\"Up_Down\", \"label\").toPandas().head()"
   ]
  },
  {
   "cell_type": "code",
   "execution_count": 23,
   "id": "f22c42ba",
   "metadata": {},
   "outputs": [
    {
     "data": {
      "text/html": [
       "<div>\n",
       "<style scoped>\n",
       "    .dataframe tbody tr th:only-of-type {\n",
       "        vertical-align: middle;\n",
       "    }\n",
       "\n",
       "    .dataframe tbody tr th {\n",
       "        vertical-align: top;\n",
       "    }\n",
       "\n",
       "    .dataframe thead th {\n",
       "        text-align: right;\n",
       "    }\n",
       "</style>\n",
       "<table border=\"1\" class=\"dataframe\">\n",
       "  <thead>\n",
       "    <tr style=\"text-align: right;\">\n",
       "      <th></th>\n",
       "      <th>vectorized_features</th>\n",
       "      <th>features</th>\n",
       "    </tr>\n",
       "  </thead>\n",
       "  <tbody>\n",
       "    <tr>\n",
       "      <th>0</th>\n",
       "      <td>[28995.13, 29409.99, 5403.068471, 15...</td>\n",
       "      <td>[2.9711817478686164, 3.0146477864433...</td>\n",
       "    </tr>\n",
       "    <tr>\n",
       "      <th>1</th>\n",
       "      <td>[29410.0, 29194.65, 2384.23156, 6984...</td>\n",
       "      <td>[3.0136942032960707, 2.9925745298957...</td>\n",
       "    </tr>\n",
       "    <tr>\n",
       "      <th>2</th>\n",
       "      <td>[29195.25, 29278.4, 1461.345077, 427...</td>\n",
       "      <td>[2.9916883947221904, 3.0011592574700...</td>\n",
       "    </tr>\n",
       "    <tr>\n",
       "      <th>3</th>\n",
       "      <td>[29278.41, 29220.31, 2038.046803, 59...</td>\n",
       "      <td>[3.0002099455534075, 2.9952047879203...</td>\n",
       "    </tr>\n",
       "    <tr>\n",
       "      <th>4</th>\n",
       "      <td>[29220.31, 29187.01, 1469.956262, 42...</td>\n",
       "      <td>[2.994256336807692, 2.99179139773252...</td>\n",
       "    </tr>\n",
       "  </tbody>\n",
       "</table>\n",
       "</div>"
      ],
      "text/plain": [
       "                       vectorized_features  \\\n",
       "0  [28995.13, 29409.99, 5403.068471, 15...   \n",
       "1  [29410.0, 29194.65, 2384.23156, 6984...   \n",
       "2  [29195.25, 29278.4, 1461.345077, 427...   \n",
       "3  [29278.41, 29220.31, 2038.046803, 59...   \n",
       "4  [29220.31, 29187.01, 1469.956262, 42...   \n",
       "\n",
       "                                  features  \n",
       "0  [2.9711817478686164, 3.0146477864433...  \n",
       "1  [3.0136942032960707, 2.9925745298957...  \n",
       "2  [2.9916883947221904, 3.0011592574700...  \n",
       "3  [3.0002099455534075, 2.9952047879203...  \n",
       "4  [2.994256336807692, 2.99179139773252...  "
      ]
     },
     "execution_count": 23,
     "metadata": {},
     "output_type": "execute_result"
    }
   ],
   "source": [
    "#Scale\n",
    "scaler = StandardScaler()\\\n",
    "                 .setInputCol (\"vectorized_features\")\\\n",
    "                 .setOutputCol (\"features\")\n",
    "\n",
    "scaler_model=scaler.fit(label_indexer_df)\n",
    "scaler_df=scaler_model.transform(label_indexer_df)\n",
    "pd.set_option('display.max_colwidth', 40)\n",
    "scaler_df.select(\"vectorized_features\", \"features\").toPandas().head()"
   ]
  },
  {
   "cell_type": "code",
   "execution_count": 24,
   "id": "e0c6e0fc",
   "metadata": {},
   "outputs": [
    {
     "data": {
      "text/html": [
       "<div>\n",
       "<style scoped>\n",
       "    .dataframe tbody tr th:only-of-type {\n",
       "        vertical-align: middle;\n",
       "    }\n",
       "\n",
       "    .dataframe tbody tr th {\n",
       "        vertical-align: top;\n",
       "    }\n",
       "\n",
       "    .dataframe thead th {\n",
       "        text-align: right;\n",
       "    }\n",
       "</style>\n",
       "<table border=\"1\" class=\"dataframe\">\n",
       "  <thead>\n",
       "    <tr style=\"text-align: right;\">\n",
       "      <th></th>\n",
       "      <th>Open</th>\n",
       "      <th>Close</th>\n",
       "      <th>Volume</th>\n",
       "      <th>Quote asset volume</th>\n",
       "      <th>Number of trades</th>\n",
       "      <th>Taker buy base asset volume</th>\n",
       "      <th>Taker buy quote asset volume</th>\n",
       "      <th>Up_Down</th>\n",
       "      <th>vectorized_features</th>\n",
       "      <th>label</th>\n",
       "      <th>features</th>\n",
       "    </tr>\n",
       "  </thead>\n",
       "  <tbody>\n",
       "    <tr>\n",
       "      <th>0</th>\n",
       "      <td>28995.13</td>\n",
       "      <td>29409.99</td>\n",
       "      <td>5403.068471</td>\n",
       "      <td>1.583578e+08</td>\n",
       "      <td>103896</td>\n",
       "      <td>3160.041701</td>\n",
       "      <td>9.261399e+07</td>\n",
       "      <td>Yes</td>\n",
       "      <td>[28995.13, 29409.99, 5403.068471, 15...</td>\n",
       "      <td>0.0</td>\n",
       "      <td>[2.9711817478686164, 3.0146477864433...</td>\n",
       "    </tr>\n",
       "    <tr>\n",
       "      <th>1</th>\n",
       "      <td>29410.00</td>\n",
       "      <td>29194.65</td>\n",
       "      <td>2384.231560</td>\n",
       "      <td>6.984265e+07</td>\n",
       "      <td>57646</td>\n",
       "      <td>1203.433506</td>\n",
       "      <td>3.525275e+07</td>\n",
       "      <td>No</td>\n",
       "      <td>[29410.0, 29194.65, 2384.23156, 6984...</td>\n",
       "      <td>1.0</td>\n",
       "      <td>[3.0136942032960707, 2.9925745298957...</td>\n",
       "    </tr>\n",
       "    <tr>\n",
       "      <th>2</th>\n",
       "      <td>29195.25</td>\n",
       "      <td>29278.40</td>\n",
       "      <td>1461.345077</td>\n",
       "      <td>4.276078e+07</td>\n",
       "      <td>42510</td>\n",
       "      <td>775.915666</td>\n",
       "      <td>2.270555e+07</td>\n",
       "      <td>Yes</td>\n",
       "      <td>[29195.25, 29278.4, 1461.345077, 427...</td>\n",
       "      <td>0.0</td>\n",
       "      <td>[2.9916883947221904, 3.0011592574700...</td>\n",
       "    </tr>\n",
       "    <tr>\n",
       "      <th>3</th>\n",
       "      <td>29278.41</td>\n",
       "      <td>29220.31</td>\n",
       "      <td>2038.046803</td>\n",
       "      <td>5.961464e+07</td>\n",
       "      <td>55414</td>\n",
       "      <td>1003.342834</td>\n",
       "      <td>2.934638e+07</td>\n",
       "      <td>No</td>\n",
       "      <td>[29278.41, 29220.31, 2038.046803, 59...</td>\n",
       "      <td>1.0</td>\n",
       "      <td>[3.0002099455534075, 2.9952047879203...</td>\n",
       "    </tr>\n",
       "    <tr>\n",
       "      <th>4</th>\n",
       "      <td>29220.31</td>\n",
       "      <td>29187.01</td>\n",
       "      <td>1469.956262</td>\n",
       "      <td>4.286454e+07</td>\n",
       "      <td>41800</td>\n",
       "      <td>679.846742</td>\n",
       "      <td>1.982719e+07</td>\n",
       "      <td>No</td>\n",
       "      <td>[29220.31, 29187.01, 1469.956262, 42...</td>\n",
       "      <td>1.0</td>\n",
       "      <td>[2.994256336807692, 2.99179139773252...</td>\n",
       "    </tr>\n",
       "  </tbody>\n",
       "</table>\n",
       "</div>"
      ],
      "text/plain": [
       "       Open     Close       Volume  Quote asset volume  Number of trades  \\\n",
       "0  28995.13  29409.99  5403.068471        1.583578e+08            103896   \n",
       "1  29410.00  29194.65  2384.231560        6.984265e+07             57646   \n",
       "2  29195.25  29278.40  1461.345077        4.276078e+07             42510   \n",
       "3  29278.41  29220.31  2038.046803        5.961464e+07             55414   \n",
       "4  29220.31  29187.01  1469.956262        4.286454e+07             41800   \n",
       "\n",
       "   Taker buy base asset volume  Taker buy quote asset volume Up_Down  \\\n",
       "0                  3160.041701                  9.261399e+07     Yes   \n",
       "1                  1203.433506                  3.525275e+07      No   \n",
       "2                   775.915666                  2.270555e+07     Yes   \n",
       "3                  1003.342834                  2.934638e+07      No   \n",
       "4                   679.846742                  1.982719e+07      No   \n",
       "\n",
       "                       vectorized_features  label  \\\n",
       "0  [28995.13, 29409.99, 5403.068471, 15...    0.0   \n",
       "1  [29410.0, 29194.65, 2384.23156, 6984...    1.0   \n",
       "2  [29195.25, 29278.4, 1461.345077, 427...    0.0   \n",
       "3  [29278.41, 29220.31, 2038.046803, 59...    1.0   \n",
       "4  [29220.31, 29187.01, 1469.956262, 42...    1.0   \n",
       "\n",
       "                                  features  \n",
       "0  [2.9711817478686164, 3.0146477864433...  \n",
       "1  [3.0136942032960707, 2.9925745298957...  \n",
       "2  [2.9916883947221904, 3.0011592574700...  \n",
       "3  [3.0002099455534075, 2.9952047879203...  \n",
       "4  [2.994256336807692, 2.99179139773252...  "
      ]
     },
     "execution_count": 24,
     "metadata": {},
     "output_type": "execute_result"
    }
   ],
   "source": [
    "#trying second methodology\n",
    "pipeline_stages=Pipeline()\\\n",
    "                .setStages([assembler,label_indexer,scaler])\n",
    "pipeline_model=pipeline_stages.fit(df3)\n",
    "pipeline_df=pipeline_model.transform(df3)\n",
    "pipeline_df.toPandas().head()"
   ]
  },
  {
   "cell_type": "markdown",
   "id": "54339864",
   "metadata": {},
   "source": [
    "# Model Training & Prediction"
   ]
  },
  {
   "cell_type": "code",
   "execution_count": 25,
   "id": "753c6366",
   "metadata": {},
   "outputs": [
    {
     "name": "stdout",
     "output_type": "stream",
     "text": [
      "Training count: 2919\n",
      "Test count: 713\n"
     ]
    }
   ],
   "source": [
    "train, test = pipeline_df.randomSplit([0.8, 0.2], seed = 2021)\n",
    "print(\"Training count: \" + str(train.count()))\n",
    "print(\"Test count: \" + str(test.count()))"
   ]
  },
  {
   "cell_type": "code",
   "execution_count": 26,
   "id": "23e2cba9",
   "metadata": {},
   "outputs": [
    {
     "name": "stdout",
     "output_type": "stream",
     "text": [
      "+-------+-----+\n",
      "|Up_Down|count|\n",
      "+-------+-----+\n",
      "|     No| 1432|\n",
      "|    Yes| 1487|\n",
      "+-------+-----+\n",
      "\n"
     ]
    }
   ],
   "source": [
    "train.groupBy(\"Up_Down\").count().show()"
   ]
  },
  {
   "cell_type": "code",
   "execution_count": 27,
   "id": "4611cef6",
   "metadata": {},
   "outputs": [
    {
     "data": {
      "text/html": [
       "<div>\n",
       "<style scoped>\n",
       "    .dataframe tbody tr th:only-of-type {\n",
       "        vertical-align: middle;\n",
       "    }\n",
       "\n",
       "    .dataframe tbody tr th {\n",
       "        vertical-align: top;\n",
       "    }\n",
       "\n",
       "    .dataframe thead th {\n",
       "        text-align: right;\n",
       "    }\n",
       "</style>\n",
       "<table border=\"1\" class=\"dataframe\">\n",
       "  <thead>\n",
       "    <tr style=\"text-align: right;\">\n",
       "      <th></th>\n",
       "      <th>label</th>\n",
       "      <th>features</th>\n",
       "      <th>rawPrediction</th>\n",
       "      <th>prediction</th>\n",
       "      <th>probability</th>\n",
       "    </tr>\n",
       "  </thead>\n",
       "  <tbody>\n",
       "    <tr>\n",
       "      <th>0</th>\n",
       "      <td>1.0</td>\n",
       "      <td>[2.9791304816105297, 2.9755988077036...</td>\n",
       "      <td>[0.11832307148680171, -0.11832307148...</td>\n",
       "      <td>0.0</td>\n",
       "      <td>[0.5295463043642462, 0.4704536956357...</td>\n",
       "    </tr>\n",
       "    <tr>\n",
       "      <th>1</th>\n",
       "      <td>0.0</td>\n",
       "      <td>[2.988401100943144, 2.99951098977581...</td>\n",
       "      <td>[0.17787638962819796, -0.17787638962...</td>\n",
       "      <td>0.0</td>\n",
       "      <td>[0.5443522169790758, 0.4556477830209...</td>\n",
       "    </tr>\n",
       "    <tr>\n",
       "      <th>2</th>\n",
       "      <td>0.0</td>\n",
       "      <td>[2.991014130599181, 3.00343177580230...</td>\n",
       "      <td>[0.17479676627872293, -0.17479676627...</td>\n",
       "      <td>0.0</td>\n",
       "      <td>[0.5435882653848426, 0.4564117346151...</td>\n",
       "    </tr>\n",
       "    <tr>\n",
       "      <th>3</th>\n",
       "      <td>0.0</td>\n",
       "      <td>[3.034483672183004, 3.04242642731081...</td>\n",
       "      <td>[0.1374656930095023, -0.137465693009...</td>\n",
       "      <td>0.0</td>\n",
       "      <td>[0.5343124073227662, 0.4656875926772...</td>\n",
       "    </tr>\n",
       "    <tr>\n",
       "      <th>4</th>\n",
       "      <td>0.0</td>\n",
       "      <td>[3.1112667800875187, 3.1439947737180...</td>\n",
       "      <td>[-0.008068806539898138, 0.0080688065...</td>\n",
       "      <td>1.0</td>\n",
       "      <td>[0.49798280930922095, 0.502017190690...</td>\n",
       "    </tr>\n",
       "  </tbody>\n",
       "</table>\n",
       "</div>"
      ],
      "text/plain": [
       "   label                                 features  \\\n",
       "0    1.0  [2.9791304816105297, 2.9755988077036...   \n",
       "1    0.0  [2.988401100943144, 2.99951098977581...   \n",
       "2    0.0  [2.991014130599181, 3.00343177580230...   \n",
       "3    0.0  [3.034483672183004, 3.04242642731081...   \n",
       "4    0.0  [3.1112667800875187, 3.1439947737180...   \n",
       "\n",
       "                             rawPrediction  prediction  \\\n",
       "0  [0.11832307148680171, -0.11832307148...         0.0   \n",
       "1  [0.17787638962819796, -0.17787638962...         0.0   \n",
       "2  [0.17479676627872293, -0.17479676627...         0.0   \n",
       "3  [0.1374656930095023, -0.137465693009...         0.0   \n",
       "4  [-0.008068806539898138, 0.0080688065...         1.0   \n",
       "\n",
       "                               probability  \n",
       "0  [0.5295463043642462, 0.4704536956357...  \n",
       "1  [0.5443522169790758, 0.4556477830209...  \n",
       "2  [0.5435882653848426, 0.4564117346151...  \n",
       "3  [0.5343124073227662, 0.4656875926772...  \n",
       "4  [0.49798280930922095, 0.502017190690...  "
      ]
     },
     "execution_count": 27,
     "metadata": {},
     "output_type": "execute_result"
    }
   ],
   "source": [
    "from pyspark.ml.classification import LogisticRegression\n",
    "lr = LogisticRegression(featuresCol = \"features\", labelCol = 'label', maxIter=5)\n",
    "lrModel = lr.fit(train)\n",
    "predictions = lrModel.transform(test)\n",
    "predictions.select('label','features','rawPrediction','prediction','probability').toPandas().head(5)"
   ]
  },
  {
   "cell_type": "markdown",
   "id": "a2e8ced0",
   "metadata": {},
   "source": [
    "# Performance Metrics"
   ]
  },
  {
   "cell_type": "code",
   "execution_count": 28,
   "id": "80aac125",
   "metadata": {},
   "outputs": [],
   "source": [
    "class_names=[1.0,0.0]\n",
    "import itertools\n",
    "def plot_confusion_matrix(cm, classes,\n",
    "                          normalize=False,\n",
    "                          title='Confusion matrix',\n",
    "                          cmap=plt.cm.Blues):\n",
    "    \"\"\"\n",
    "    This function prints and plots the confusion matrix.\n",
    "    Normalization can be applied by setting `normalize=True`.\n",
    "    \"\"\"\n",
    "    if normalize:\n",
    "        cm = cm.astype('float') / cm.sum(axis=1)[:, np.newaxis]\n",
    "        print(\"Normalized confusion matrix\")\n",
    "    else:\n",
    "        print('Confusion matrix, without normalization')\n",
    "\n",
    "    print(cm)\n",
    "\n",
    "    plt.imshow(cm, interpolation='nearest', cmap=cmap)\n",
    "    plt.title(title)\n",
    "    plt.colorbar()\n",
    "    tick_marks = np.arange(len(classes))\n",
    "    plt.xticks(tick_marks, classes, rotation=45)\n",
    "    plt.yticks(tick_marks, classes)\n",
    "\n",
    "    fmt = '.2f' if normalize else 'd'\n",
    "    thresh = cm.max() / 2.\n",
    "    for i, j in itertools.product(range(cm.shape[0]), range(cm.shape[1])):\n",
    "        plt.text(j, i, format(cm[i, j], fmt),\n",
    "                 horizontalalignment=\"center\",\n",
    "                 color=\"white\" if cm[i, j] > thresh else \"black\")\n",
    "\n",
    "    plt.tight_layout()\n",
    "    plt.ylabel('True label')\n",
    "    plt.xlabel('Predicted label')"
   ]
  },
  {
   "cell_type": "code",
   "execution_count": 29,
   "id": "37d4bcb4",
   "metadata": {},
   "outputs": [
    {
     "name": "stdout",
     "output_type": "stream",
     "text": [
      "Confusion matrix, without normalization\n",
      "[[102 245]\n",
      " [ 73 293]]\n"
     ]
    },
    {
     "data": {
      "image/png": "[encoded data removed]",
      "text/plain": [
       "<Figure size 432x288 with 2 Axes>"
      ]
     },
     "metadata": {
      "needs_background": "light"
     },
     "output_type": "display_data"
    }
   ],
   "source": [
    "y_true = predictions.select(\"label\")\n",
    "y_true = y_true.toPandas()\n",
    "\n",
    "y_pred = predictions.select(\"prediction\")\n",
    "y_pred = y_pred.toPandas()\n",
    "\n",
    "cnf_matrix = confusion_matrix(y_true, y_pred,labels=class_names)\n",
    "#cnf_matrix\n",
    "plt.figure()\n",
    "plot_confusion_matrix(cnf_matrix, classes=class_names,\n",
    "                      title='Confusion matrix')\n",
    "plt.show()"
   ]
  },
  {
   "cell_type": "code",
   "execution_count": 30,
   "id": "7332d5f1",
   "metadata": {},
   "outputs": [
    {
     "name": "stdout",
     "output_type": "stream",
     "text": [
      "Accuracy:  0.5539971949509116\n"
     ]
    }
   ],
   "source": [
    "accuracy = predictions.filter(predictions.label == predictions.prediction).count() / float(predictions.count())\n",
    "print(\"Accuracy: \", accuracy)"
   ]
  },
  {
   "cell_type": "code",
   "execution_count": 31,
   "id": "2d1e4948",
   "metadata": {},
   "outputs": [
    {
     "data": {
      "image/png": "[encoded data removed]",
      "text/plain": [
       "<Figure size 432x288 with 1 Axes>"
      ]
     },
     "metadata": {
      "needs_background": "light"
     },
     "output_type": "display_data"
    },
    {
     "name": "stdout",
     "output_type": "stream",
     "text": [
      "Training set areaUnderROC: 0.5735724509999144\n"
     ]
    }
   ],
   "source": [
    "trainingSummary = lrModel.summary\n",
    "roc = trainingSummary.roc.toPandas()\n",
    "plt.plot(roc['FPR'],roc['TPR'])\n",
    "plt.ylabel('False Positive Rate')\n",
    "plt.xlabel('True Positive Rate')\n",
    "plt.title('ROC Curve')\n",
    "plt.show()\n",
    "print('Training set areaUnderROC: ' + str(trainingSummary.areaUnderROC))"
   ]
  },
  {
   "cell_type": "code",
   "execution_count": 32,
   "id": "23657770",
   "metadata": {},
   "outputs": [
    {
     "name": "stdout",
     "output_type": "stream",
     "text": [
      "Test Area Under ROC 0.5344167808380974\n"
     ]
    }
   ],
   "source": [
    "from pyspark.ml.evaluation import BinaryClassificationEvaluator\n",
    "evaluator = BinaryClassificationEvaluator()\n",
    "print('Test Area Under ROC', evaluator.evaluate(predictions))"
   ]
  },
  {
   "cell_type": "markdown",
   "id": "4a363fbc",
   "metadata": {},
   "source": [
    "# Cross Validation and Best Model"
   ]
  },
  {
   "cell_type": "code",
   "execution_count": 33,
   "id": "3b9e2143",
   "metadata": {},
   "outputs": [],
   "source": [
    "from pyspark.ml.tuning import ParamGridBuilder, CrossValidator\n",
    "\n",
    "# Create ParamGrid for Cross Validation\n",
    "paramGrid = (ParamGridBuilder()\n",
    "             .addGrid(lr.regParam, [0.01, 0.5, 2.0])# regularization parameter\n",
    "             .addGrid(lr.elasticNetParam, [0.0, 0.5, 1.0])# Elastic Net Parameter (Ridge = 0)\n",
    "             .addGrid(lr.maxIter, [1, 5, 10])#Number of iterations\n",
    "             .build())\n",
    "\n",
    "cv = CrossValidator(estimator=lr, estimatorParamMaps=paramGrid, \n",
    "                    evaluator=evaluator, numFolds=5)\n",
    "\n",
    "cvModel = cv.fit(train)"
   ]
  },
  {
   "cell_type": "code",
   "execution_count": 34,
   "id": "bae3f41c",
   "metadata": {},
   "outputs": [
    {
     "name": "stdout",
     "output_type": "stream",
     "text": [
      "Best Model Test Area Under ROC 0.6773672855545594\n"
     ]
    }
   ],
   "source": [
    "predictions = cvModel.transform(test)\n",
    "print('Best Model Test Area Under ROC', evaluator.evaluate(predictions))"
   ]
  },
  {
   "cell_type": "code",
   "execution_count": 35,
   "id": "d8e20bac",
   "metadata": {},
   "outputs": [
    {
     "data": {
      "text/plain": [
       "LogisticRegressionModel: uid=LogisticRegression_f5bc5d6954c1, numClasses=2, numFeatures=7"
      ]
     },
     "execution_count": 35,
     "metadata": {},
     "output_type": "execute_result"
    }
   ],
   "source": [
    "cvModel.bestModel"
   ]
  },
  {
   "cell_type": "code",
   "execution_count": 36,
   "id": "956ae643",
   "metadata": {},
   "outputs": [
    {
     "data": {
      "text/plain": [
       "['aggregationDepth: suggested depth for treeAggregate (>= 2). (default: 2)',\n",
       " 'elasticNetParam: the ElasticNet mixing parameter, in range [0, 1]. For alpha = 0, the penalty is an L2 penalty. For alpha = 1, it is an L1 penalty. (default: 0.0, current: 0.0)',\n",
       " 'family: The name of family which is a description of the label distribution to be used in the model. Supported options: auto, binomial, multinomial (default: auto)',\n",
       " 'featuresCol: features column name. (default: features, current: features)',\n",
       " 'fitIntercept: whether to fit an intercept term. (default: True)',\n",
       " 'labelCol: label column name. (default: label, current: label)',\n",
       " 'lowerBoundsOnCoefficients: The lower bounds on coefficients if fitting under bound constrained optimization. The bound matrix must be compatible with the shape (1, number of features) for binomial regression, or (number of classes, number of features) for multinomial regression. (undefined)',\n",
       " 'lowerBoundsOnIntercepts: The lower bounds on intercepts if fitting under bound constrained optimization. The bounds vector size must beequal with 1 for binomial regression, or the number oflasses for multinomial regression. (undefined)',\n",
       " 'maxBlockSizeInMB: maximum memory in MB for stacking input data into blocks. Data is stacked within partitions. If more than remaining data size in a partition then it is adjusted to the data size. Default 0.0 represents choosing optimal value, depends on specific algorithm. Must be >= 0. (default: 0.0)',\n",
       " 'maxIter: max number of iterations (>= 0). (default: 100, current: 10)',\n",
       " 'predictionCol: prediction column name. (default: prediction)',\n",
       " 'probabilityCol: Column name for predicted class conditional probabilities. Note: Not all models output well-calibrated probability estimates! These probabilities should be treated as confidences, not precise probabilities. (default: probability)',\n",
       " 'rawPredictionCol: raw prediction (a.k.a. confidence) column name. (default: rawPrediction)',\n",
       " 'regParam: regularization parameter (>= 0). (default: 0.0, current: 0.01)',\n",
       " 'standardization: whether to standardize the training features before fitting the model. (default: True)',\n",
       " 'threshold: Threshold in binary classification prediction, in range [0, 1]. If threshold and thresholds are both set, they must match.e.g. if threshold is p, then thresholds must be equal to [1-p, p]. (default: 0.5)',\n",
       " \"thresholds: Thresholds in multi-class classification to adjust the probability of predicting each class. Array must have length equal to the number of classes, with values > 0, excepting that at most one value may be 0. The class with largest value p/t is predicted, where p is the original probability of that class and t is the class's threshold. (undefined)\",\n",
       " 'tol: the convergence tolerance for iterative algorithms (>= 0). (default: 1e-06)',\n",
       " 'upperBoundsOnCoefficients: The upper bounds on coefficients if fitting under bound constrained optimization. The bound matrix must be compatible with the shape (1, number of features) for binomial regression, or (number of classes, number of features) for multinomial regression. (undefined)',\n",
       " 'upperBoundsOnIntercepts: The upper bounds on intercepts if fitting under bound constrained optimization. The bound vector size must be equal with 1 for binomial regression, or the number of classes for multinomial regression. (undefined)',\n",
       " 'weightCol: weight column name. If this is not set or empty, we treat all instance weights as 1.0. (undefined)']"
      ]
     },
     "execution_count": 36,
     "metadata": {},
     "output_type": "execute_result"
    }
   ],
   "source": [
    "best_model=cvModel.bestModel\n",
    "best_model.explainParams().split(\"\\n\")"
   ]
  }
 ],
 "metadata": {
  "kernelspec": {
   "display_name": "Python 3",
   "language": "python",
   "name": "python3"
  },
  "language_info": {
   "codemirror_mode": {
    "name": "ipython",
    "version": 3
   },
   "file_extension": ".py",
   "mimetype": "text/x-python",
   "name": "python",
   "nbconvert_exporter": "python",
   "pygments_lexer": "ipython3",
   "version": "3.9.4"
  }
 },
 "nbformat": 4,
 "nbformat_minor": 5
}

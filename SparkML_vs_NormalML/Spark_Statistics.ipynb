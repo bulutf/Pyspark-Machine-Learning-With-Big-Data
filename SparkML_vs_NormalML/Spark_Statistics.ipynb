{
 "cells": [
  {
   "cell_type": "markdown",
   "metadata": {},
   "source": [
    "## Requirements"
   ]
  },
  {
   "cell_type": "code",
   "execution_count": 226,
   "metadata": {},
   "outputs": [],
   "source": [
    "import sys\n",
    "from pyspark import SparkConf, SparkContext, SQLContext\n",
    "from math import sqrt\n",
    "import numpy as np\n",
    "from pyspark.sql.functions import rand, randn\n",
    "from pyspark.mllib.stat import Statistics"
   ]
  },
  {
   "cell_type": "code",
   "execution_count": 245,
   "metadata": {},
   "outputs": [],
   "source": [
    "from pyspark.sql.types import StructType,StructField, StringType, IntegerType \n",
    "from pyspark.sql.types import ArrayType, DoubleType, BooleanType\n",
    "from pyspark.sql.functions import when\n",
    "from pyspark.sql.functions import lit\n",
    "from pyspark.sql.functions import concat"
   ]
  },
  {
   "cell_type": "code",
   "execution_count": 3,
   "metadata": {},
   "outputs": [],
   "source": [
    "sc = SparkContext.getOrCreate()\n",
    "sqlcont = SQLContext(sc)"
   ]
  },
  {
   "cell_type": "markdown",
   "metadata": {},
   "source": [
    "## Getting Data"
   ]
  },
  {
   "cell_type": "code",
   "execution_count": 72,
   "metadata": {},
   "outputs": [],
   "source": [
    "# Using the same schema for all three pairs.\n",
    "\n",
    "schema = StructType() \\\n",
    "      .add(\"Open Time\",DoubleType(),True) \\\n",
    "      .add(\"Open\",DoubleType(),True) \\\n",
    "      .add(\"High\",DoubleType(),True) \\\n",
    "      .add(\"Low\",DoubleType(),True) \\\n",
    "      .add(\"Close\",DoubleType(),True) \\\n",
    "      .add(\"Volume\",DoubleType(),True) \\\n",
    "      .add(\"Close Time\",DoubleType(),True) \\\n",
    "      .add(\"Quote asset volume\",DoubleType(),True) \\\n",
    "      .add(\"Number of trades\",IntegerType(),True) \\\n",
    "      .add(\"Taker buy base asset volume\",DoubleType(),True) \\\n",
    "      .add(\"Taker buy quote asset volume\",DoubleType(),True) \\\n",
    "      .add(\"Ignore\",StringType(),True) \\\n",
    "\n",
    "      \n",
    "df_btc = sqlcont.read.format(\"csv\") \\\n",
    "      .option(\"header\", True) \\\n",
    "      .schema(schema) \\\n",
    "      .load('csv/btc_2021_hourly.csv')\n",
    "\n",
    "df_eth = sqlcont.read.format(\"csv\") \\\n",
    "      .option(\"header\", True) \\\n",
    "      .schema(schema) \\\n",
    "      .load('csv/eth_2021_hourly.csv')\n",
    "\n",
    "df_doge = sqlcont.read.format(\"csv\") \\\n",
    "      .option(\"header\", True) \\\n",
    "      .schema(schema) \\\n",
    "      .load('csv/doge_2021_hourly.csv')"
   ]
  },
  {
   "cell_type": "code",
   "execution_count": 73,
   "metadata": {},
   "outputs": [
    {
     "name": "stdout",
     "output_type": "stream",
     "text": [
      "root\n",
      " |-- Open Time: double (nullable = true)\n",
      " |-- Open: double (nullable = true)\n",
      " |-- High: double (nullable = true)\n",
      " |-- Low: double (nullable = true)\n",
      " |-- Close: double (nullable = true)\n",
      " |-- Volume: double (nullable = true)\n",
      " |-- Close Time: double (nullable = true)\n",
      " |-- Quote asset volume: double (nullable = true)\n",
      " |-- Number of trades: integer (nullable = true)\n",
      " |-- Taker buy base asset volume: double (nullable = true)\n",
      " |-- Taker buy quote asset volume: double (nullable = true)\n",
      " |-- Ignore: string (nullable = true)\n",
      "\n"
     ]
    }
   ],
   "source": [
    "df_doge.printSchema()"
   ]
  },
  {
   "cell_type": "code",
   "execution_count": 65,
   "metadata": {},
   "outputs": [
    {
     "name": "stdout",
     "output_type": "stream",
     "text": [
      "-RECORD 0-------------------------------------------\n",
      " Open Time                    | 1.6094628E9         \n",
      " Open                         | 28995.13            \n",
      " High                         | 29470.0             \n",
      " Low                          | 28960.35            \n",
      " Close                        | 29409.99            \n",
      " Volume                       | 5403.068471         \n",
      " Close Time                   | 1.609466399999E12   \n",
      " Quote asset volume           | 1.583578168180572E8 \n",
      " Number of trades             | 103896              \n",
      " Taker buy base asset volume  | 3160.041701         \n",
      " Taker buy quote asset volume | 9.261399193555292E7 \n",
      " Ignore                       | 0                   \n",
      "-RECORD 1-------------------------------------------\n",
      " Open Time                    | 1.6094664E9         \n",
      " Open                         | 29410.0             \n",
      " High                         | 29465.26            \n",
      " Low                          | 29120.03            \n",
      " Close                        | 29194.65            \n",
      " Volume                       | 2384.23156          \n",
      " Close Time                   | 1.609469999999E12   \n",
      " Quote asset volume           | 6.98426536734203E7  \n",
      " Number of trades             | 57646               \n",
      " Taker buy base asset volume  | 1203.433506         \n",
      " Taker buy quote asset volume | 3.525274990832606E7 \n",
      " Ignore                       | 0                   \n",
      "-RECORD 2-------------------------------------------\n",
      " Open Time                    | 1.60947E9           \n",
      " Open                         | 29195.25            \n",
      " High                         | 29367.0             \n",
      " Low                          | 29150.02            \n",
      " Close                        | 29278.4             \n",
      " Volume                       | 1461.345077         \n",
      " Close Time                   | 1.609473599999E12   \n",
      " Quote asset volume           | 4.276077672551646E7 \n",
      " Number of trades             | 42510               \n",
      " Taker buy base asset volume  | 775.915666          \n",
      " Taker buy quote asset volume | 2.270554798307977E7 \n",
      " Ignore                       | 0                   \n",
      "-RECORD 3-------------------------------------------\n",
      " Open Time                    | 1.6094736E9         \n",
      " Open                         | 29278.41            \n",
      " High                         | 29395.0             \n",
      " Low                          | 29029.4             \n",
      " Close                        | 29220.31            \n",
      " Volume                       | 2038.046803         \n",
      " Close Time                   | 1.609477199999E12   \n",
      " Quote asset volume           | 5.961463730352874E7 \n",
      " Number of trades             | 55414               \n",
      " Taker buy base asset volume  | 1003.342834         \n",
      " Taker buy quote asset volume | 2.934638188020654E7 \n",
      " Ignore                       | 0                   \n",
      "-RECORD 4-------------------------------------------\n",
      " Open Time                    | 1.6094772E9         \n",
      " Open                         | 29220.31            \n",
      " High                         | 29235.28            \n",
      " Low                          | 29084.11            \n",
      " Close                        | 29187.01            \n",
      " Volume                       | 1469.956262         \n",
      " Close Time                   | 1.609480799999E12   \n",
      " Quote asset volume           | 4.286453870435811E7 \n",
      " Number of trades             | 41800               \n",
      " Taker buy base asset volume  | 679.846742          \n",
      " Taker buy quote asset volume | 1.982719029247262E7 \n",
      " Ignore                       | 0                   \n",
      "-RECORD 5-------------------------------------------\n",
      " Open Time                    | 1.6094808E9         \n",
      " Open                         | 29187.01            \n",
      " High                         | 29270.0             \n",
      " Low                          | 29077.32            \n",
      " Close                        | 29174.35            \n",
      " Volume                       | 1420.726291         \n",
      " Close Time                   | 1.609484399999E12   \n",
      " Quote asset volume           | 4.144601301819005E7 \n",
      " Number of trades             | 46400               \n",
      " Taker buy base asset volume  | 699.142676          \n",
      " Taker buy quote asset volume | 2.039832275992173E7 \n",
      " Ignore                       | 0                   \n",
      "-RECORD 6-------------------------------------------\n",
      " Open Time                    | 1.6094844E9         \n",
      " Open                         | 29174.35            \n",
      " High                         | 29191.98            \n",
      " Low                          | 28806.54            \n",
      " Close                        | 29092.83            \n",
      " Volume                       | 2380.180918         \n",
      " Close Time                   | 1.609487999999E12   \n",
      " Quote asset volume           | 6.90346190948994E7  \n",
      " Number of trades             | 53158               \n",
      " Taker buy base asset volume  | 1054.720991         \n",
      " Taker buy quote asset volume | 3.059845740248306E7 \n",
      " Ignore                       | 0                   \n",
      "-RECORD 7-------------------------------------------\n",
      " Open Time                    | 1.609488E9          \n",
      " Open                         | 29092.84            \n",
      " High                         | 29178.03            \n",
      " Low                          | 28872.24            \n",
      " Close                        | 29000.01            \n",
      " Volume                       | 2008.165739         \n",
      " Close Time                   | 1.609491599999E12   \n",
      " Quote asset volume           | 5.827419069862189E7 \n",
      " Number of trades             | 55012               \n",
      " Taker buy base asset volume  | 1022.06617          \n",
      " Taker buy quote asset volume | 2.966244772598589E7 \n",
      " Ignore                       | 0                   \n",
      "-RECORD 8-------------------------------------------\n",
      " Open Time                    | 1.6094916E9         \n",
      " Open                         | 29000.01            \n",
      " High                         | 29307.73            \n",
      " Low                          | 28970.0             \n",
      " Close                        | 29202.21            \n",
      " Volume                       | 2022.056022         \n",
      " Close Time                   | 1.609495199999E12   \n",
      " Quote asset volume           | 5.9006512260986E7   \n",
      " Number of trades             | 43674               \n",
      " Taker buy base asset volume  | 1208.477578         \n",
      " Taker buy quote asset volume | 3.527271735224266E7 \n",
      " Ignore                       | 0                   \n",
      "-RECORD 9-------------------------------------------\n",
      " Open Time                    | 1.6094952E9         \n",
      " Open                         | 29202.21            \n",
      " High                         | 29344.97            \n",
      " Low                          | 29152.88            \n",
      " Close                        | 29223.82            \n",
      " Volume                       | 1944.255841         \n",
      " Close Time                   | 1.609498799999E12   \n",
      " Quote asset volume           | 5.688192387605724E7 \n",
      " Number of trades             | 46783               \n",
      " Taker buy base asset volume  | 1014.538319         \n",
      " Taker buy quote asset volume | 2.968302781899852E7 \n",
      " Ignore                       | 0                   \n",
      "only showing top 10 rows\n",
      "\n"
     ]
    }
   ],
   "source": [
    "df_btc.show(10, vertical=True)"
   ]
  },
  {
   "cell_type": "markdown",
   "metadata": {},
   "source": [
    "# Categorizing price movement"
   ]
  },
  {
   "cell_type": "code",
   "execution_count": 37,
   "metadata": {},
   "outputs": [],
   "source": [
    "# If the price moves;\n",
    "#  + 5-∞ category A\n",
    "#  + 0-5 category B\n",
    "#  - 0-5 category C\n",
    "#  - 5-100 category D"
   ]
  },
  {
   "cell_type": "code",
   "execution_count": 94,
   "metadata": {},
   "outputs": [],
   "source": [
    "df_btc=df_btc.withColumn(\"Category\", \\\n",
    "   when(((df_btc.Close-df_btc.Open)*100/df_btc.Open >= 5), lit(\"A\")) \\\n",
    "     .when(((df_btc.Close-df_btc.Open)*100/df_btc.Open >= 0) & ((df_btc.Close-df_btc.Open)*100/df_btc.Open < 5), lit(\"B\")) \\\n",
    "     .when(((df_btc.Close-df_btc.Open)*100/df_btc.Open < 0) & ((df_btc.Close-df_btc.Open)*100/df_btc.Open > -5), lit(\"C\")) \\\n",
    "     .otherwise(lit(\"D\"))            \n",
    "  )\n",
    "\n",
    "df_eth=df_eth.withColumn(\"Category\", \\\n",
    "   when(((df_eth.Close-df_eth.Open)*100/df_eth.Open >= 5 ), lit(\"A\")) \\\n",
    "     .when(((df_eth.Close-df_eth.Open)*100/df_eth.Open >= 0) & ((df_eth.Close-df_eth.Open)*100/df_eth.Open < 5), lit(\"B\")) \\\n",
    "     .when(((df_eth.Close-df_eth.Open)*100/df_eth.Open < 0) & ((df_eth.Close-df_eth.Open)*100/df_eth.Open > -5), lit(\"C\")) \\\n",
    "     .otherwise(lit(\"D\"))            \n",
    "  )\n",
    "\n",
    "df_doge=df_doge.withColumn(\"Category\", \\\n",
    "   when(((df_doge.Close-df_doge.Open)*100/df_doge.Open >= 5 ), lit(\"A\")) \\\n",
    "     .when(((df_doge.Close-df_doge.Open)*100/df_doge.Open >= 0) & ((df_doge.Close-df_doge.Open)*100/df_doge.Open < 5), lit(\"B\")) \\\n",
    "     .when(((df_doge.Close-df_doge.Open)*100/df_doge.Open < 0) & ((df_doge.Close-df_doge.Open)*100/df_doge.Open > -5), lit(\"C\")) \\\n",
    "     .otherwise(lit(\"D\"))            \n",
    "  )\n",
    "\n",
    "df_btc = df_btc.withColumn(\"Pair\", lit(\"BTCUSDT\"))\n",
    "df_eth = df_eth.withColumn(\"Pair\", lit(\"ETHUSDT\"))\n",
    "df_doge = df_doge.withColumn(\"Pair\", lit(\"DOGEUSDT\"))"
   ]
  },
  {
   "cell_type": "markdown",
   "metadata": {},
   "source": [
    "# Designed a new DF to store pairs and their categories together to use crosstab. \n",
    "## DOGE pair is more volatile than the others as we can see. Category A is desired since 5 percent up within an hour is not so frequent."
   ]
  },
  {
   "cell_type": "code",
   "execution_count": 105,
   "metadata": {},
   "outputs": [
    {
     "name": "stdout",
     "output_type": "stream",
     "text": [
      "+-------------+---+----+----+---+\n",
      "|Pair_Category|  A|   B|   C|  D|\n",
      "+-------------+---+----+----+---+\n",
      "|      BTCUSDT|  3|1694|1609|  6|\n",
      "|     DOGEUSDT|144|1537|1525|106|\n",
      "|      ETHUSDT|  7|1765|1526| 14|\n",
      "+-------------+---+----+----+---+\n",
      "\n"
     ]
    }
   ],
   "source": [
    "cols = ['Pair', 'Category']    \n",
    "\n",
    "df1 = df_btc.select(cols)\n",
    "df2 = df_eth.select(cols)\n",
    "df3 = df_doge.select(cols)\n",
    "df_categorical = df1.union(df2.union(df3))\n",
    "\n",
    "df_categorical.stat.crosstab(\"Pair\",\"Category\").show()"
   ]
  },
  {
   "cell_type": "markdown",
   "metadata": {},
   "source": [
    "## Frequent Categories"
   ]
  },
  {
   "cell_type": "code",
   "execution_count": 106,
   "metadata": {},
   "outputs": [
    {
     "data": {
      "text/plain": [
       "Row(Category_freqItems=['C', 'B'])"
      ]
     },
     "execution_count": 106,
     "metadata": {},
     "output_type": "execute_result"
    }
   ],
   "source": [
    "freq = df_categorical.stat.freqItems([\"Category\"], 0.4)\n",
    "freq.collect()[0]"
   ]
  },
  {
   "cell_type": "markdown",
   "metadata": {},
   "source": [
    "## Calculated Mean Value, Covariance, Correlation, Skewness and Kurtosis"
   ]
  },
  {
   "cell_type": "code",
   "execution_count": 203,
   "metadata": {},
   "outputs": [
    {
     "name": "stdout",
     "output_type": "stream",
     "text": [
      "+-----+--------+------+\n",
      "|index|     BTC|   ETH|\n",
      "+-----+--------+------+\n",
      "|    0|28995.13|734.07|\n",
      "|    1|29409.99|748.28|\n",
      "|    2|29194.65|744.06|\n",
      "|    3| 29278.4|744.82|\n",
      "|    4|29220.31|742.29|\n",
      "|    5|29187.01|740.65|\n",
      "|    6|29174.35|739.97|\n",
      "|    7|29092.83|737.38|\n",
      "|    8|29000.01|730.07|\n",
      "|    9|29202.21|733.68|\n",
      "|   10|29223.82|736.81|\n",
      "|   11|29313.49|738.85|\n",
      "|   12|29233.49|733.19|\n",
      "|   13|29464.79|740.08|\n",
      "|   14|29327.84| 738.0|\n",
      "|   15|29188.67|735.39|\n",
      "|   16|29300.57|735.83|\n",
      "|   17|29079.64|727.94|\n",
      "|   18| 29072.7| 724.6|\n",
      "|   19|29029.04|725.34|\n",
      "+-----+--------+------+\n",
      "only showing top 20 rows\n",
      "\n"
     ]
    }
   ],
   "source": [
    "schema = StructType() \\\n",
    "      .add(\"index\",IntegerType(),True) \\\n",
    "      .add(\"BTC\",DoubleType(),True) \\\n",
    "      .add(\"ETH\",DoubleType(),True) \\\n",
    "\n",
    "      \n",
    "df_comparison = sqlcont.read.format(\"csv\") \\\n",
    "      .option(\"header\", True) \\\n",
    "      .schema(schema) \\\n",
    "      .load('csv/comparison.csv')\n",
    "\n",
    "df_comparison.show()"
   ]
  },
  {
   "cell_type": "code",
   "execution_count": 244,
   "metadata": {},
   "outputs": [
    {
     "name": "stdout",
     "output_type": "stream",
     "text": [
      "Mean Value of BTC since the beginning of 2021 is: 48766.10135526716\n",
      "\n",
      "Covariance between BTC and ETH is 4130680.824073262\n",
      "\n",
      "Correlation between pairs: 0.5652529024784977\n",
      "\n",
      "Skewness of BTC is: -0.5350558333775998\n",
      "\n",
      "Kurtosis of BTC is: 1.918070966854103\n"
     ]
    }
   ],
   "source": [
    "# get the hourly closing prices of Bitcoin/USDT pair within a rdd.\n",
    "\n",
    "rdd = df_comparison.rdd\n",
    "rdd_btc = rdd.map(lambda x: x[1])\n",
    "rdd_eth = rdd.map(lambda x: x[2])\n",
    "\n",
    "sum_rdd = rdd_btc.sum()\n",
    "count_rdd = rdd_btc.count()\n",
    "mean = sum_rdd/count_rdd\n",
    "\n",
    "print(\"Mean Value of BTC since the beginning of 2021 is: \" + str(mean))\n",
    "print(\"\\nCovariance between BTC and ETH is \" + str(df_comparison.cov(\"BTC\",\"ETH\")))\n",
    "print(\"\\nCorrelation between pairs: \" + str(Statistics.corr(rdd_btc, rdd_eth, method=\"pearson\")))\n",
    "\n",
    "n= float(rdd_btc.count())\n",
    "skewness = rdd_btc.map(lambda x: pow((x - mean),3) / pow(std,3)).sum()*1/n\n",
    "print(\"\\nSkewness of BTC is: \" + str(skewness))\n",
    "kurtosis=rdd_btc.map(lambda x: pow((x - mean),4) / pow(std,4)).sum()*1/n\n",
    "print(\"\\nKurtosis of BTC is: \" + str(kurtosis))"
   ]
  },
  {
   "cell_type": "markdown",
   "metadata": {},
   "source": [
    "# Used colStat for min, max Norm L1, L2 and non-zero values "
   ]
  },
  {
   "cell_type": "code",
   "execution_count": 238,
   "metadata": {},
   "outputs": [
    {
     "name": "stdout",
     "output_type": "stream",
     "text": [
      "64577.26 is the \u001b[4mmaximum\u001b[0m value of Bitcoin/USDT pair in 2021\n",
      "\n",
      "28995.13 is the \u001b[4mminimum\u001b[0m value of Bitcoin/USDT pair in 2021\n",
      "\n",
      "\u001b[1mNorm L1\u001b[0m and \u001b[1mNorm L2 \u001b[0mvalues are given: 161562093.79000002 , 2861012.8995879926\n",
      "\n",
      "In this case, all values are non-zero, as expected: 3313\n"
     ]
    }
   ],
   "source": [
    "#ColStat\n",
    "\n",
    "rdd_=sc.textFile('csv/btc_2021_hourly.csv') \\\n",
    "    .map(lambda x: x.split(\",\")) \\\n",
    "    .map(lambda x: (x[4])) \\\n",
    "    .map(lambda x: np.array(x)) \n",
    "summary = Statistics.colStats(rdd_)\n",
    "\n",
    "print(\"{} is the \".format(summary.max()[0]) + \"\\033[4m\" + \"maximum\" +\"\\033[0m\" +\" value of Bitcoin/USDT pair in 2021\\n\")\n",
    "print(\"{} is the \".format(summary.min()[0]) + \"\\033[4m\" + \"minimum\" +\"\\033[0m\" +\" value of Bitcoin/USDT pair in 2021\\n\")\n",
    "\n",
    "print('\\033[1m' + \"Norm L1\" +'\\033[0m' +\" and \" +'\\033[1m' +\"Norm L2 \" +'\\033[0m' + \"values are given: \" + str(summary.normL1()[0]) + \" , \" + str(summary.normL2()[0]))\n",
    "\n",
    "print(\"\\nIn this case, all values are non-zero, as expected: {}\".format(int(summary.numNonzeros()[0])))"
   ]
  }
 ],
 "metadata": {
  "kernelspec": {
   "display_name": "Python 3",
   "language": "python",
   "name": "python3"
  },
  "language_info": {
   "codemirror_mode": {
    "name": "ipython",
    "version": 3
   },
   "file_extension": ".py",
   "mimetype": "text/x-python",
   "name": "python",
   "nbconvert_exporter": "python",
   "pygments_lexer": "ipython3",
   "version": "3.8.5"
  }
 },
 "nbformat": 4,
 "nbformat_minor": 2
}
